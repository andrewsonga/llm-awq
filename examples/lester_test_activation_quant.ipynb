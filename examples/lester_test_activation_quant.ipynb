{
 "cells": [
  {
   "cell_type": "code",
   "execution_count": 1,
   "metadata": {},
   "outputs": [],
   "source": [
    "%load_ext autoreload\n",
    "%autoreload 2"
   ]
  },
  {
   "cell_type": "code",
   "execution_count": 2,
   "metadata": {},
   "outputs": [],
   "source": [
    "import os\n",
    "\n",
    "os.environ[\"CUDA_VISIBLE_DEVICES\"] = \"6\""
   ]
  },
  {
   "cell_type": "code",
   "execution_count": 3,
   "metadata": {},
   "outputs": [],
   "source": [
    "import awq"
   ]
  },
  {
   "cell_type": "code",
   "execution_count": 4,
   "metadata": {},
   "outputs": [],
   "source": [
    "import tqdm\n",
    "import torch\n",
    "from torch import nn\n",
    "from transformers import AutoModelForCausalLM, AutoTokenizer\n",
    "from datasets import load_dataset\n",
    "from functools import partial\n",
    "import gc"
   ]
  },
  {
   "cell_type": "code",
   "execution_count": 5,
   "metadata": {},
   "outputs": [],
   "source": [
    "def evaluate(model, tokenizer):\n",
    "    testenc = load_dataset(\"wikitext\", \"wikitext-2-raw-v1\", split=\"test\")\n",
    "    testenc = tokenizer(\"\\n\\n\".join(testenc[\"text\"]), return_tensors=\"pt\")\n",
    "\n",
    "    testenc = testenc.input_ids.to(model.device)\n",
    "    nsamples = 40\n",
    "    model = model.eval()\n",
    "\n",
    "    nlls = []\n",
    "    for i in tqdm.tqdm(range(nsamples), desc=\"evaluating...\"):\n",
    "        batch = testenc[:, (i * 2048) : ((i + 1) * 2048)].to(model.device)\n",
    "        with torch.no_grad():\n",
    "            lm_logits = model(batch).logits\n",
    "        shift_logits = lm_logits[:, :-1, :].contiguous().float()\n",
    "        shift_labels = testenc[:, (i * 2048) : ((i + 1) * 2048)][:, 1:]\n",
    "        loss_fct = nn.CrossEntropyLoss()\n",
    "        loss = loss_fct(\n",
    "            shift_logits.view(-1, shift_logits.size(-1)), shift_labels.view(-1)\n",
    "        )\n",
    "        neg_log_likelihood = loss.float() * 2048\n",
    "        nlls.append(neg_log_likelihood)\n",
    "\n",
    "    return torch.exp(torch.stack(nlls).sum() / (nsamples * 2048))"
   ]
  },
  {
   "cell_type": "code",
   "execution_count": 6,
   "metadata": {},
   "outputs": [],
   "source": [
    "def get_model_size(model: nn.Module, data_width=16, group_size=-1):\n",
    "\n",
    "    if group_size != -1:\n",
    "        data_width += (16 + 4) / group_size\n",
    "\n",
    "    num_elements = 0\n",
    "    for param in model.parameters():\n",
    "        num_elements += param.numel()\n",
    "    return num_elements * data_width\n",
    "\n",
    "\n",
    "Byte = 8\n",
    "KiB = 1024 * Byte\n",
    "MiB = 1024 * KiB\n",
    "GiB = 1024 * MiB"
   ]
  },
  {
   "cell_type": "code",
   "execution_count": 7,
   "metadata": {},
   "outputs": [
    {
     "name": "stderr",
     "output_type": "stream",
     "text": [
      "/home/sizheli/.local/lib/python3.10/site-packages/huggingface_hub/file_download.py:797: FutureWarning: `resume_download` is deprecated and will be removed in version 1.0.0. Downloads always resume when possible. If you want to force a new download, use `force_download=True`.\n",
      "  warnings.warn(\n"
     ]
    }
   ],
   "source": [
    "model_path = \"facebook/opt-1.3b\"\n",
    "\n",
    "# model_path = \"facebook/opt-13b\"\n",
    "\n",
    "tokenizer = AutoTokenizer.from_pretrained(model_path, use_fast=False)"
   ]
  },
  {
   "cell_type": "code",
   "execution_count": 8,
   "metadata": {},
   "outputs": [
    {
     "name": "stderr",
     "output_type": "stream",
     "text": [
      "/home/sizheli/.local/lib/python3.10/site-packages/huggingface_hub/file_download.py:797: FutureWarning: `resume_download` is deprecated and will be removed in version 1.0.0. Downloads always resume when possible. If you want to force a new download, use `force_download=True`.\n",
      "  warnings.warn(\n"
     ]
    }
   ],
   "source": [
    "original_model_n_bits = 32\n",
    "torch_dtype = torch.float16 if original_model_n_bits == 16 else torch.float32\n",
    "\n",
    "model = AutoModelForCausalLM.from_pretrained(\n",
    "    model_path, torch_dtype=torch_dtype, device_map=\"auto\"\n",
    ")"
   ]
  },
  {
   "cell_type": "code",
   "execution_count": 9,
   "metadata": {},
   "outputs": [
    {
     "name": "stderr",
     "output_type": "stream",
     "text": [
      "evaluating...: 100%|██████████| 40/40 [00:20<00:00,  1.93it/s]\n"
     ]
    },
    {
     "name": "stdout",
     "output_type": "stream",
     "text": [
      "\n",
      "model perplexity: 14.47\n",
      "model size: 5043.73 MiB\n"
     ]
    }
   ],
   "source": [
    "# Evaluate the model\n",
    "model_perplexity = evaluate(model, tokenizer)\n",
    "model_size = get_model_size(model, data_width=original_model_n_bits, group_size=128)\n",
    "\n",
    "### Print the results\n",
    "print(f\"\\nmodel perplexity: {model_perplexity:.2f}\")\n",
    "print(f\"model size: {model_size/MiB:.2f} MiB\")"
   ]
  },
  {
   "cell_type": "code",
   "execution_count": 48,
   "metadata": {},
   "outputs": [
    {
     "name": "stderr",
     "output_type": "stream",
     "text": [
      "Repo card metadata block was not found. Setting CardData to empty.\n"
     ]
    },
    {
     "name": "stdout",
     "output_type": "stream",
     "text": [
      " * Split into 60 blocks\n"
     ]
    },
    {
     "name": "stderr",
     "output_type": "stream",
     "text": [
      "Running AWQ...:   0%|          | 0/24 [00:00<?, ?it/s]"
     ]
    },
    {
     "name": "stdout",
     "output_type": "stream",
     "text": [
      "dict_keys(['self_attn.q_proj', 'self_attn.k_proj', 'self_attn.v_proj', 'self_attn.out_proj', 'fc1', 'fc2'])\n",
      "dict_keys(['self_attn.q_proj', 'self_attn.k_proj', 'self_attn.v_proj', 'self_attn.out_proj', 'fc1', 'fc2'])\n",
      "----------\n",
      "ratio: 0.0, loss: 1.0621346235275269\n",
      "ratio: 0.05, loss: 1.0885839462280273\n",
      "ratio: 0.1, loss: 0.985962986946106\n",
      "ratio: 0.15, loss: 0.9112263917922974\n",
      "ratio: 0.2, loss: 0.9200567603111267\n",
      "ratio: 0.25, loss: 0.9309477806091309\n",
      "ratio: 0.3, loss: 0.9278945326805115\n",
      "ratio: 0.35, loss: 0.9316182732582092\n",
      "ratio: 0.4, loss: 0.9297643303871155\n",
      "ratio: 0.45, loss: 0.9304285049438477\n",
      "ratio: 0.5, loss: 0.9303783774375916\n",
      "ratio: 0.55, loss: 0.9310886859893799\n",
      "ratio: 0.6, loss: 0.9300938248634338\n",
      "ratio: 0.65, loss: 0.930308997631073\n",
      "ratio: 0.7, loss: 0.9299536347389221\n",
      "ratio: 0.75, loss: 0.9301728010177612\n",
      "ratio: 0.8, loss: 0.9302728772163391\n",
      "ratio: 0.85, loss: 0.9302891492843628\n",
      "ratio: 0.9, loss: 0.9302465319633484\n",
      "ratio: 0.95, loss: 0.9301099181175232\n",
      "ratio: 0.0, loss: 0.014216315932571888\n",
      "ratio: 0.05, loss: 0.014736620709300041\n",
      "ratio: 0.1, loss: 0.014355802908539772\n",
      "ratio: 0.15, loss: 0.014329769648611546\n",
      "ratio: 0.2, loss: 0.014481447637081146\n",
      "ratio: 0.25, loss: 0.014275488443672657\n",
      "ratio: 0.3, loss: 0.014475290663540363\n",
      "ratio: 0.35, loss: 0.014347432181239128\n",
      "ratio: 0.4, loss: 0.014532789587974548\n",
      "ratio: 0.45, loss: 0.014187479391694069\n",
      "ratio: 0.5, loss: 0.014196205884218216\n",
      "ratio: 0.55, loss: 0.014250793494284153\n",
      "ratio: 0.6, loss: 0.014347453601658344\n",
      "ratio: 0.65, loss: 0.014379770494997501\n",
      "ratio: 0.7, loss: 0.014395502395927906\n",
      "ratio: 0.75, loss: 0.014469780959188938\n",
      "ratio: 0.8, loss: 0.014540900476276875\n",
      "ratio: 0.85, loss: 0.014608759433031082\n",
      "ratio: 0.9, loss: 0.014605640433728695\n",
      "ratio: 0.95, loss: 0.014629855751991272\n"
     ]
    },
    {
     "name": "stderr",
     "output_type": "stream",
     "text": [
      "Running AWQ...:   4%|▍         | 1/24 [00:08<03:18,  8.62s/it]"
     ]
    },
    {
     "name": "stdout",
     "output_type": "stream",
     "text": [
      "dict_keys(['self_attn.q_proj', 'self_attn.k_proj', 'self_attn.v_proj', 'self_attn.out_proj', 'fc1', 'fc2'])\n",
      "dict_keys(['self_attn.q_proj', 'self_attn.k_proj', 'self_attn.v_proj', 'self_attn.out_proj', 'fc1', 'fc2'])\n",
      "----------\n",
      "ratio: 0.0, loss: 1.64265775680542\n",
      "ratio: 0.05, loss: 1.535681962966919\n",
      "ratio: 0.1, loss: 1.5437500476837158\n",
      "ratio: 0.15, loss: 1.539994239807129\n",
      "ratio: 0.2, loss: 1.5368536710739136\n",
      "ratio: 0.25, loss: 1.5346659421920776\n",
      "ratio: 0.3, loss: 1.5365595817565918\n",
      "ratio: 0.35, loss: 1.535537600517273\n",
      "ratio: 0.4, loss: 1.5344001054763794\n",
      "ratio: 0.45, loss: 1.5348025560379028\n",
      "ratio: 0.5, loss: 1.5346769094467163\n",
      "ratio: 0.55, loss: 1.5339692831039429\n",
      "ratio: 0.6, loss: 1.5350390672683716\n",
      "ratio: 0.65, loss: 1.534542202949524\n",
      "ratio: 0.7, loss: 1.534589171409607\n",
      "ratio: 0.75, loss: 1.5331711769104004\n",
      "ratio: 0.8, loss: 1.5354747772216797\n",
      "ratio: 0.85, loss: 1.537583827972412\n",
      "ratio: 0.9, loss: 1.5354299545288086\n",
      "ratio: 0.95, loss: 1.5298359394073486\n",
      "ratio: 0.0, loss: 0.00264464202336967\n",
      "ratio: 0.05, loss: 0.0026322018820792437\n",
      "ratio: 0.1, loss: 0.0026234702672809362\n",
      "ratio: 0.15, loss: 0.0026294749695807695\n",
      "ratio: 0.2, loss: 0.002646302105858922\n",
      "ratio: 0.25, loss: 0.002655165968462825\n",
      "ratio: 0.3, loss: 0.0027059440035372972\n",
      "ratio: 0.35, loss: 0.002778494032099843\n",
      "ratio: 0.4, loss: 0.0028691240586340427\n",
      "ratio: 0.45, loss: 0.002986293751746416\n",
      "ratio: 0.5, loss: 0.0030658997129648924\n",
      "ratio: 0.55, loss: 0.0031512288842350245\n",
      "ratio: 0.6, loss: 0.0032579873222857714\n",
      "ratio: 0.65, loss: 0.0033996219281107187\n",
      "ratio: 0.7, loss: 0.003571395995095372\n",
      "ratio: 0.75, loss: 0.003720646956935525\n",
      "ratio: 0.8, loss: 0.0038915046025067568\n",
      "ratio: 0.85, loss: 0.004062934312969446\n",
      "ratio: 0.9, loss: 0.00420648418366909\n",
      "ratio: 0.95, loss: 0.004382495302706957\n"
     ]
    },
    {
     "name": "stderr",
     "output_type": "stream",
     "text": [
      "Running AWQ...:   8%|▊         | 2/24 [00:15<02:50,  7.77s/it]"
     ]
    },
    {
     "name": "stdout",
     "output_type": "stream",
     "text": [
      "dict_keys(['self_attn.q_proj', 'self_attn.k_proj', 'self_attn.v_proj', 'self_attn.out_proj', 'fc1', 'fc2'])\n",
      "dict_keys(['self_attn.q_proj', 'self_attn.k_proj', 'self_attn.v_proj', 'self_attn.out_proj', 'fc1', 'fc2'])\n",
      "----------\n",
      "ratio: 0.0, loss: 1.825465202331543\n",
      "ratio: 0.05, loss: 1.791100025177002\n",
      "ratio: 0.1, loss: 1.7546273469924927\n",
      "ratio: 0.15, loss: 1.7486554384231567\n",
      "ratio: 0.2, loss: 1.7426435947418213\n",
      "ratio: 0.25, loss: 1.7372469902038574\n",
      "ratio: 0.3, loss: 1.73504638671875\n",
      "ratio: 0.35, loss: 1.7342441082000732\n",
      "ratio: 0.4, loss: 1.7327215671539307\n",
      "ratio: 0.45, loss: 1.7342054843902588\n",
      "ratio: 0.5, loss: 1.7330964803695679\n",
      "ratio: 0.55, loss: 1.7335439920425415\n",
      "ratio: 0.6, loss: 1.7333019971847534\n",
      "ratio: 0.65, loss: 1.732922911643982\n",
      "ratio: 0.7, loss: 1.7323499917984009\n",
      "ratio: 0.75, loss: 1.7320928573608398\n",
      "ratio: 0.8, loss: 1.7325963973999023\n",
      "ratio: 0.85, loss: 1.7343332767486572\n",
      "ratio: 0.9, loss: 1.7355806827545166\n",
      "ratio: 0.95, loss: 1.7347527742385864\n",
      "ratio: 0.0, loss: 0.0014069925528019667\n",
      "ratio: 0.05, loss: 0.001365356263704598\n",
      "ratio: 0.1, loss: 0.0013800052693113685\n",
      "ratio: 0.15, loss: 0.001374657265841961\n",
      "ratio: 0.2, loss: 0.0013904934749007225\n",
      "ratio: 0.25, loss: 0.001382262445986271\n",
      "ratio: 0.3, loss: 0.0013708551414310932\n",
      "ratio: 0.35, loss: 0.0014059371314942837\n",
      "ratio: 0.4, loss: 0.001411676756106317\n",
      "ratio: 0.45, loss: 0.0014418972423300147\n",
      "ratio: 0.5, loss: 0.0014879333321005106\n",
      "ratio: 0.55, loss: 0.0015457317931577563\n",
      "ratio: 0.6, loss: 0.0016196586657315493\n",
      "ratio: 0.65, loss: 0.001707144663669169\n",
      "ratio: 0.7, loss: 0.001806864282116294\n",
      "ratio: 0.75, loss: 0.001934393891133368\n",
      "ratio: 0.8, loss: 0.002072856528684497\n",
      "ratio: 0.85, loss: 0.002224738709628582\n",
      "ratio: 0.9, loss: 0.002374162431806326\n",
      "ratio: 0.95, loss: 0.0024902403820306063\n"
     ]
    },
    {
     "name": "stderr",
     "output_type": "stream",
     "text": [
      "Running AWQ...:  12%|█▎        | 3/24 [00:23<02:38,  7.57s/it]"
     ]
    },
    {
     "name": "stdout",
     "output_type": "stream",
     "text": [
      "dict_keys(['self_attn.q_proj', 'self_attn.k_proj', 'self_attn.v_proj', 'self_attn.out_proj', 'fc1', 'fc2'])\n",
      "dict_keys(['self_attn.q_proj', 'self_attn.k_proj', 'self_attn.v_proj', 'self_attn.out_proj', 'fc1', 'fc2'])\n",
      "----------\n",
      "ratio: 0.0, loss: 1.9574739933013916\n",
      "ratio: 0.05, loss: 1.9716770648956299\n",
      "ratio: 0.1, loss: 1.9790089130401611\n",
      "ratio: 0.15, loss: 1.9727791547775269\n",
      "ratio: 0.2, loss: 1.9674952030181885\n",
      "ratio: 0.25, loss: 1.9639595746994019\n",
      "ratio: 0.3, loss: 1.9603599309921265\n",
      "ratio: 0.35, loss: 1.9601446390151978\n",
      "ratio: 0.4, loss: 1.9605523347854614\n",
      "ratio: 0.45, loss: 1.9605144262313843\n",
      "ratio: 0.5, loss: 1.9602103233337402\n",
      "ratio: 0.55, loss: 1.9609137773513794\n",
      "ratio: 0.6, loss: 1.960694432258606\n",
      "ratio: 0.65, loss: 1.9606273174285889\n",
      "ratio: 0.7, loss: 1.9609429836273193\n",
      "ratio: 0.75, loss: 1.9601742029190063\n",
      "ratio: 0.8, loss: 1.9603244066238403\n",
      "ratio: 0.85, loss: 1.9601202011108398\n",
      "ratio: 0.9, loss: 1.960702657699585\n",
      "ratio: 0.95, loss: 1.9604928493499756\n",
      "ratio: 0.0, loss: 0.0008253617561422288\n",
      "ratio: 0.05, loss: 0.0008218271541409194\n",
      "ratio: 0.1, loss: 0.0008199322037398815\n",
      "ratio: 0.15, loss: 0.0008143378654494882\n",
      "ratio: 0.2, loss: 0.0008139560814015567\n",
      "ratio: 0.25, loss: 0.0008157874690368772\n",
      "ratio: 0.3, loss: 0.0008214414701797068\n",
      "ratio: 0.35, loss: 0.0008281691698357463\n",
      "ratio: 0.4, loss: 0.0008417243370786309\n",
      "ratio: 0.45, loss: 0.0008602652815170586\n",
      "ratio: 0.5, loss: 0.0008908045710995793\n",
      "ratio: 0.55, loss: 0.0009371224441565573\n",
      "ratio: 0.6, loss: 0.0009989169193431735\n",
      "ratio: 0.65, loss: 0.0010717390105128288\n",
      "ratio: 0.7, loss: 0.001156643615104258\n",
      "ratio: 0.75, loss: 0.0012563931522890925\n",
      "ratio: 0.8, loss: 0.0013624626444652677\n",
      "ratio: 0.85, loss: 0.0014747417299076915\n",
      "ratio: 0.9, loss: 0.001585975056514144\n",
      "ratio: 0.95, loss: 0.001705361995846033\n"
     ]
    },
    {
     "name": "stderr",
     "output_type": "stream",
     "text": [
      "Running AWQ...:  17%|█▋        | 4/24 [00:30<02:29,  7.46s/it]"
     ]
    },
    {
     "name": "stdout",
     "output_type": "stream",
     "text": [
      "dict_keys(['self_attn.q_proj', 'self_attn.k_proj', 'self_attn.v_proj', 'self_attn.out_proj', 'fc1', 'fc2'])\n",
      "dict_keys(['self_attn.q_proj', 'self_attn.k_proj', 'self_attn.v_proj', 'self_attn.out_proj', 'fc1', 'fc2'])\n",
      "----------\n",
      "ratio: 0.0, loss: 1.985856533050537\n",
      "ratio: 0.05, loss: 1.9633346796035767\n",
      "ratio: 0.1, loss: 1.9441944360733032\n",
      "ratio: 0.15, loss: 1.9383623600006104\n",
      "ratio: 0.2, loss: 1.927996277809143\n",
      "ratio: 0.25, loss: 1.926278829574585\n",
      "ratio: 0.3, loss: 1.9228038787841797\n",
      "ratio: 0.35, loss: 1.9235639572143555\n",
      "ratio: 0.4, loss: 1.9224259853363037\n",
      "ratio: 0.45, loss: 1.9227455854415894\n",
      "ratio: 0.5, loss: 1.9222346544265747\n",
      "ratio: 0.55, loss: 1.9228142499923706\n",
      "ratio: 0.6, loss: 1.9221203327178955\n",
      "ratio: 0.65, loss: 1.922487735748291\n",
      "ratio: 0.7, loss: 1.9228153228759766\n",
      "ratio: 0.75, loss: 1.9225214719772339\n",
      "ratio: 0.8, loss: 1.9226495027542114\n",
      "ratio: 0.85, loss: 1.9222967624664307\n",
      "ratio: 0.9, loss: 1.921908974647522\n",
      "ratio: 0.95, loss: 1.9216525554656982\n",
      "ratio: 0.0, loss: 0.0008398828795179725\n",
      "ratio: 0.05, loss: 0.000830458418931812\n",
      "ratio: 0.1, loss: 0.0008258852176368237\n",
      "ratio: 0.15, loss: 0.0008237799047492445\n",
      "ratio: 0.2, loss: 0.0008243743795901537\n",
      "ratio: 0.25, loss: 0.0008288088138215244\n",
      "ratio: 0.3, loss: 0.0008356322068721056\n",
      "ratio: 0.35, loss: 0.0008470105240121484\n",
      "ratio: 0.4, loss: 0.0008648158982396126\n",
      "ratio: 0.45, loss: 0.0008911516633816063\n",
      "ratio: 0.5, loss: 0.0009293610346503556\n",
      "ratio: 0.55, loss: 0.000982000958174467\n",
      "ratio: 0.6, loss: 0.0010525109246373177\n",
      "ratio: 0.65, loss: 0.0011391171719878912\n",
      "ratio: 0.7, loss: 0.0012412287760525942\n",
      "ratio: 0.75, loss: 0.001356148743070662\n",
      "ratio: 0.8, loss: 0.001478864811360836\n",
      "ratio: 0.85, loss: 0.0016043861396610737\n",
      "ratio: 0.9, loss: 0.0017306488007307053\n",
      "ratio: 0.95, loss: 0.0018528137588873506\n"
     ]
    },
    {
     "name": "stderr",
     "output_type": "stream",
     "text": [
      "Running AWQ...:  21%|██        | 5/24 [00:37<02:20,  7.41s/it]"
     ]
    },
    {
     "name": "stdout",
     "output_type": "stream",
     "text": [
      "dict_keys(['self_attn.q_proj', 'self_attn.k_proj', 'self_attn.v_proj', 'self_attn.out_proj', 'fc1', 'fc2'])\n",
      "dict_keys(['self_attn.q_proj', 'self_attn.k_proj', 'self_attn.v_proj', 'self_attn.out_proj', 'fc1', 'fc2'])\n",
      "----------\n",
      "ratio: 0.0, loss: 2.2868988513946533\n",
      "ratio: 0.05, loss: 2.2655770778656006\n",
      "ratio: 0.1, loss: 2.2535817623138428\n",
      "ratio: 0.15, loss: 2.2408225536346436\n",
      "ratio: 0.2, loss: 2.2341227531433105\n",
      "ratio: 0.25, loss: 2.225645065307617\n",
      "ratio: 0.3, loss: 2.2204086780548096\n",
      "ratio: 0.35, loss: 2.21950364112854\n",
      "ratio: 0.4, loss: 2.2178099155426025\n",
      "ratio: 0.45, loss: 2.2204599380493164\n",
      "ratio: 0.5, loss: 2.219845771789551\n",
      "ratio: 0.55, loss: 2.2196133136749268\n",
      "ratio: 0.6, loss: 2.2196242809295654\n",
      "ratio: 0.65, loss: 2.219454050064087\n",
      "ratio: 0.7, loss: 2.21968674659729\n",
      "ratio: 0.75, loss: 2.2198264598846436\n",
      "ratio: 0.8, loss: 2.220099449157715\n",
      "ratio: 0.85, loss: 2.2196080684661865\n",
      "ratio: 0.9, loss: 2.219183921813965\n",
      "ratio: 0.95, loss: 2.2188467979431152\n",
      "ratio: 0.0, loss: 0.0012328462908044457\n",
      "ratio: 0.05, loss: 0.0012247959384694695\n",
      "ratio: 0.1, loss: 0.0012173362774774432\n",
      "ratio: 0.15, loss: 0.0012156977318227291\n",
      "ratio: 0.2, loss: 0.0012168234679847956\n",
      "ratio: 0.25, loss: 0.0012192506110295653\n",
      "ratio: 0.3, loss: 0.001226350897923112\n",
      "ratio: 0.35, loss: 0.0012360004475340247\n",
      "ratio: 0.4, loss: 0.0012525948695838451\n",
      "ratio: 0.45, loss: 0.0012757538352161646\n",
      "ratio: 0.5, loss: 0.001308281673118472\n",
      "ratio: 0.55, loss: 0.0013526510447263718\n",
      "ratio: 0.6, loss: 0.0014100773259997368\n",
      "ratio: 0.65, loss: 0.0014820019714534283\n",
      "ratio: 0.7, loss: 0.0015667193802073598\n",
      "ratio: 0.75, loss: 0.0016623146366328\n",
      "ratio: 0.8, loss: 0.0017644803738221526\n",
      "ratio: 0.85, loss: 0.001869027386419475\n",
      "ratio: 0.9, loss: 0.001972596161067486\n",
      "ratio: 0.95, loss: 0.0020740714389830828\n"
     ]
    },
    {
     "name": "stderr",
     "output_type": "stream",
     "text": [
      "Running AWQ...:  25%|██▌       | 6/24 [00:45<02:14,  7.48s/it]"
     ]
    },
    {
     "name": "stdout",
     "output_type": "stream",
     "text": [
      "dict_keys(['self_attn.q_proj', 'self_attn.k_proj', 'self_attn.v_proj', 'self_attn.out_proj', 'fc1', 'fc2'])\n",
      "dict_keys(['self_attn.q_proj', 'self_attn.k_proj', 'self_attn.v_proj', 'self_attn.out_proj', 'fc1', 'fc2'])\n",
      "----------\n",
      "ratio: 0.0, loss: 2.3185579776763916\n",
      "ratio: 0.05, loss: 2.2887182235717773\n",
      "ratio: 0.1, loss: 2.2770493030548096\n",
      "ratio: 0.15, loss: 2.2701940536499023\n",
      "ratio: 0.2, loss: 2.2588024139404297\n",
      "ratio: 0.25, loss: 2.255110263824463\n",
      "ratio: 0.3, loss: 2.2513561248779297\n",
      "ratio: 0.35, loss: 2.2486300468444824\n",
      "ratio: 0.4, loss: 2.2479629516601562\n",
      "ratio: 0.45, loss: 2.2466881275177\n",
      "ratio: 0.5, loss: 2.2477269172668457\n",
      "ratio: 0.55, loss: 2.2474398612976074\n",
      "ratio: 0.6, loss: 2.247495174407959\n",
      "ratio: 0.65, loss: 2.24777889251709\n",
      "ratio: 0.7, loss: 2.2478461265563965\n",
      "ratio: 0.75, loss: 2.2479162216186523\n",
      "ratio: 0.8, loss: 2.247710943222046\n",
      "ratio: 0.85, loss: 2.247565984725952\n",
      "ratio: 0.9, loss: 2.247483253479004\n",
      "ratio: 0.95, loss: 2.2470617294311523\n",
      "ratio: 0.0, loss: 0.001617002533748746\n",
      "ratio: 0.05, loss: 0.0016037380555644631\n",
      "ratio: 0.1, loss: 0.0015949279768392444\n",
      "ratio: 0.15, loss: 0.0015912962844595313\n",
      "ratio: 0.2, loss: 0.00159140070900321\n",
      "ratio: 0.25, loss: 0.0015949056250974536\n",
      "ratio: 0.3, loss: 0.0016019662143662572\n",
      "ratio: 0.35, loss: 0.001613763626664877\n",
      "ratio: 0.4, loss: 0.0016318566631525755\n",
      "ratio: 0.45, loss: 0.0016590752638876438\n",
      "ratio: 0.5, loss: 0.001697099069133401\n",
      "ratio: 0.55, loss: 0.0017488732701167464\n",
      "ratio: 0.6, loss: 0.0018191898707300425\n",
      "ratio: 0.65, loss: 0.001908226520754397\n",
      "ratio: 0.7, loss: 0.002013196935877204\n",
      "ratio: 0.75, loss: 0.002134857699275017\n",
      "ratio: 0.8, loss: 0.0022662864066660404\n",
      "ratio: 0.85, loss: 0.002403822261840105\n",
      "ratio: 0.9, loss: 0.0025415585841983557\n",
      "ratio: 0.95, loss: 0.002677363809198141\n"
     ]
    },
    {
     "name": "stderr",
     "output_type": "stream",
     "text": [
      "Running AWQ...:  29%|██▉       | 7/24 [00:52<02:04,  7.30s/it]"
     ]
    },
    {
     "name": "stdout",
     "output_type": "stream",
     "text": [
      "dict_keys(['self_attn.q_proj', 'self_attn.k_proj', 'self_attn.v_proj', 'self_attn.out_proj', 'fc1', 'fc2'])\n",
      "dict_keys(['self_attn.q_proj', 'self_attn.k_proj', 'self_attn.v_proj', 'self_attn.out_proj', 'fc1', 'fc2'])\n",
      "----------\n",
      "ratio: 0.0, loss: 2.5163135528564453\n",
      "ratio: 0.05, loss: 2.496886968612671\n",
      "ratio: 0.1, loss: 2.4939968585968018\n",
      "ratio: 0.15, loss: 2.4915571212768555\n",
      "ratio: 0.2, loss: 2.482785701751709\n",
      "ratio: 0.25, loss: 2.4780797958374023\n",
      "ratio: 0.3, loss: 2.47410249710083\n",
      "ratio: 0.35, loss: 2.4721992015838623\n",
      "ratio: 0.4, loss: 2.471640110015869\n",
      "ratio: 0.45, loss: 2.471910238265991\n",
      "ratio: 0.5, loss: 2.472386360168457\n",
      "ratio: 0.55, loss: 2.4709279537200928\n",
      "ratio: 0.6, loss: 2.4712703227996826\n",
      "ratio: 0.65, loss: 2.4713664054870605\n",
      "ratio: 0.7, loss: 2.4718775749206543\n",
      "ratio: 0.75, loss: 2.471503257751465\n",
      "ratio: 0.8, loss: 2.4717488288879395\n",
      "ratio: 0.85, loss: 2.4716410636901855\n",
      "ratio: 0.9, loss: 2.471071243286133\n",
      "ratio: 0.95, loss: 2.4710094928741455\n",
      "ratio: 0.0, loss: 0.0015987723600119352\n",
      "ratio: 0.05, loss: 0.0015752363251522183\n",
      "ratio: 0.1, loss: 0.0015593897551298141\n",
      "ratio: 0.15, loss: 0.0015527328941971064\n",
      "ratio: 0.2, loss: 0.0015514600090682507\n",
      "ratio: 0.25, loss: 0.0015547393122687936\n",
      "ratio: 0.3, loss: 0.00156359001994133\n",
      "ratio: 0.35, loss: 0.0015786034055054188\n",
      "ratio: 0.4, loss: 0.0016024544602259994\n",
      "ratio: 0.45, loss: 0.0016363109461963177\n",
      "ratio: 0.5, loss: 0.0016860696487128735\n",
      "ratio: 0.55, loss: 0.0017550456104800105\n",
      "ratio: 0.6, loss: 0.0018480438739061356\n",
      "ratio: 0.65, loss: 0.0019676461815834045\n",
      "ratio: 0.7, loss: 0.002116867108270526\n",
      "ratio: 0.75, loss: 0.002291971119120717\n",
      "ratio: 0.8, loss: 0.0024873302318155766\n",
      "ratio: 0.85, loss: 0.0026951285544782877\n",
      "ratio: 0.9, loss: 0.0029073175974190235\n",
      "ratio: 0.95, loss: 0.003117327345535159\n"
     ]
    },
    {
     "name": "stderr",
     "output_type": "stream",
     "text": [
      "Running AWQ...:  33%|███▎      | 8/24 [00:59<01:58,  7.41s/it]"
     ]
    },
    {
     "name": "stdout",
     "output_type": "stream",
     "text": [
      "dict_keys(['self_attn.q_proj', 'self_attn.k_proj', 'self_attn.v_proj', 'self_attn.out_proj', 'fc1', 'fc2'])\n",
      "dict_keys(['self_attn.q_proj', 'self_attn.k_proj', 'self_attn.v_proj', 'self_attn.out_proj', 'fc1', 'fc2'])\n",
      "----------\n",
      "ratio: 0.0, loss: 2.654538154602051\n",
      "ratio: 0.05, loss: 2.6555469036102295\n",
      "ratio: 0.1, loss: 2.6598780155181885\n",
      "ratio: 0.15, loss: 2.6628592014312744\n",
      "ratio: 0.2, loss: 2.656491994857788\n",
      "ratio: 0.25, loss: 2.652235269546509\n",
      "ratio: 0.3, loss: 2.6524569988250732\n",
      "ratio: 0.35, loss: 2.650285482406616\n",
      "ratio: 0.4, loss: 2.648380756378174\n",
      "ratio: 0.45, loss: 2.6479406356811523\n",
      "ratio: 0.5, loss: 2.6482651233673096\n",
      "ratio: 0.55, loss: 2.647615432739258\n",
      "ratio: 0.6, loss: 2.647894859313965\n",
      "ratio: 0.65, loss: 2.6476621627807617\n",
      "ratio: 0.7, loss: 2.648118257522583\n",
      "ratio: 0.75, loss: 2.647925615310669\n",
      "ratio: 0.8, loss: 2.6482439041137695\n",
      "ratio: 0.85, loss: 2.6481919288635254\n",
      "ratio: 0.9, loss: 2.6482036113739014\n",
      "ratio: 0.95, loss: 2.6477084159851074\n",
      "ratio: 0.0, loss: 0.0024475690443068743\n",
      "ratio: 0.05, loss: 0.0024076716508716345\n",
      "ratio: 0.1, loss: 0.0023846172261983156\n",
      "ratio: 0.15, loss: 0.0023702788166701794\n",
      "ratio: 0.2, loss: 0.0023658282589167356\n",
      "ratio: 0.25, loss: 0.0023685269989073277\n",
      "ratio: 0.3, loss: 0.0023788204416632652\n",
      "ratio: 0.35, loss: 0.002397350035607815\n",
      "ratio: 0.4, loss: 0.002427044790238142\n",
      "ratio: 0.45, loss: 0.002471186686307192\n",
      "ratio: 0.5, loss: 0.0025363159365952015\n",
      "ratio: 0.55, loss: 0.002631852636113763\n",
      "ratio: 0.6, loss: 0.002759487833827734\n",
      "ratio: 0.65, loss: 0.0029247216880321503\n",
      "ratio: 0.7, loss: 0.003129473654553294\n",
      "ratio: 0.75, loss: 0.003368895035237074\n",
      "ratio: 0.8, loss: 0.003638962982222438\n",
      "ratio: 0.85, loss: 0.003929853439331055\n",
      "ratio: 0.9, loss: 0.004226522985845804\n",
      "ratio: 0.95, loss: 0.004521528258919716\n"
     ]
    },
    {
     "name": "stderr",
     "output_type": "stream",
     "text": [
      "Running AWQ...:  38%|███▊      | 9/24 [01:08<01:54,  7.64s/it]"
     ]
    },
    {
     "name": "stdout",
     "output_type": "stream",
     "text": [
      "dict_keys(['self_attn.q_proj', 'self_attn.k_proj', 'self_attn.v_proj', 'self_attn.out_proj', 'fc1', 'fc2'])\n",
      "dict_keys(['self_attn.q_proj', 'self_attn.k_proj', 'self_attn.v_proj', 'self_attn.out_proj', 'fc1', 'fc2'])\n",
      "----------\n",
      "ratio: 0.0, loss: 2.7060134410858154\n",
      "ratio: 0.05, loss: 2.7114474773406982\n",
      "ratio: 0.1, loss: 2.7218079566955566\n",
      "ratio: 0.15, loss: 2.716007947921753\n",
      "ratio: 0.2, loss: 2.7154579162597656\n",
      "ratio: 0.25, loss: 2.7086870670318604\n",
      "ratio: 0.3, loss: 2.709371566772461\n",
      "ratio: 0.35, loss: 2.709717035293579\n",
      "ratio: 0.4, loss: 2.709404468536377\n",
      "ratio: 0.45, loss: 2.709153413772583\n",
      "ratio: 0.5, loss: 2.7079591751098633\n",
      "ratio: 0.55, loss: 2.7091243267059326\n",
      "ratio: 0.6, loss: 2.708437204360962\n",
      "ratio: 0.65, loss: 2.7078776359558105\n",
      "ratio: 0.7, loss: 2.708095073699951\n",
      "ratio: 0.75, loss: 2.708505153656006\n",
      "ratio: 0.8, loss: 2.7083613872528076\n",
      "ratio: 0.85, loss: 2.708491086959839\n",
      "ratio: 0.9, loss: 2.7086994647979736\n",
      "ratio: 0.95, loss: 2.708580732345581\n",
      "ratio: 0.0, loss: 0.0034953111317008734\n",
      "ratio: 0.05, loss: 0.0034380124416202307\n",
      "ratio: 0.1, loss: 0.0034026054199784994\n",
      "ratio: 0.15, loss: 0.00338495965115726\n",
      "ratio: 0.2, loss: 0.003376089734956622\n",
      "ratio: 0.25, loss: 0.003378254594281316\n",
      "ratio: 0.3, loss: 0.0033887377940118313\n",
      "ratio: 0.35, loss: 0.0034089814871549606\n",
      "ratio: 0.4, loss: 0.0034459929447621107\n",
      "ratio: 0.45, loss: 0.0035019584465771914\n",
      "ratio: 0.5, loss: 0.0035807343665510416\n",
      "ratio: 0.55, loss: 0.0036976777482777834\n",
      "ratio: 0.6, loss: 0.00385893601924181\n",
      "ratio: 0.65, loss: 0.004071986302733421\n",
      "ratio: 0.7, loss: 0.004335965029895306\n",
      "ratio: 0.75, loss: 0.004653396084904671\n",
      "ratio: 0.8, loss: 0.0050132484175264835\n",
      "ratio: 0.85, loss: 0.005401784088462591\n",
      "ratio: 0.9, loss: 0.005805545952171087\n",
      "ratio: 0.95, loss: 0.006201200187206268\n"
     ]
    },
    {
     "name": "stderr",
     "output_type": "stream",
     "text": [
      "Running AWQ...:  42%|████▏     | 10/24 [01:15<01:45,  7.55s/it]"
     ]
    },
    {
     "name": "stdout",
     "output_type": "stream",
     "text": [
      "dict_keys(['self_attn.q_proj', 'self_attn.k_proj', 'self_attn.v_proj', 'self_attn.out_proj', 'fc1', 'fc2'])\n",
      "dict_keys(['self_attn.q_proj', 'self_attn.k_proj', 'self_attn.v_proj', 'self_attn.out_proj', 'fc1', 'fc2'])\n",
      "----------\n",
      "ratio: 0.0, loss: 2.7317423820495605\n",
      "ratio: 0.05, loss: 2.7347116470336914\n",
      "ratio: 0.1, loss: 2.738438606262207\n",
      "ratio: 0.15, loss: 2.730745553970337\n",
      "ratio: 0.2, loss: 2.7315075397491455\n",
      "ratio: 0.25, loss: 2.7278969287872314\n",
      "ratio: 0.3, loss: 2.7290046215057373\n",
      "ratio: 0.35, loss: 2.72650408744812\n",
      "ratio: 0.4, loss: 2.725104331970215\n",
      "ratio: 0.45, loss: 2.725640296936035\n",
      "ratio: 0.5, loss: 2.725955009460449\n",
      "ratio: 0.55, loss: 2.726181983947754\n",
      "ratio: 0.6, loss: 2.72602915763855\n",
      "ratio: 0.65, loss: 2.7259411811828613\n",
      "ratio: 0.7, loss: 2.7254600524902344\n",
      "ratio: 0.75, loss: 2.725958824157715\n",
      "ratio: 0.8, loss: 2.726091146469116\n",
      "ratio: 0.85, loss: 2.7257375717163086\n",
      "ratio: 0.9, loss: 2.726215362548828\n",
      "ratio: 0.95, loss: 2.7258546352386475\n",
      "ratio: 0.0, loss: 0.004896411672234535\n",
      "ratio: 0.05, loss: 0.004802968353033066\n",
      "ratio: 0.1, loss: 0.004746629856526852\n",
      "ratio: 0.15, loss: 0.004717660136520863\n",
      "ratio: 0.2, loss: 0.004701238125562668\n",
      "ratio: 0.25, loss: 0.004698994569480419\n",
      "ratio: 0.3, loss: 0.004711544141173363\n",
      "ratio: 0.35, loss: 0.004738244693726301\n",
      "ratio: 0.4, loss: 0.004782715812325478\n",
      "ratio: 0.45, loss: 0.004853717517107725\n",
      "ratio: 0.5, loss: 0.0049630324356257915\n",
      "ratio: 0.55, loss: 0.00511267501860857\n",
      "ratio: 0.6, loss: 0.005323812831193209\n",
      "ratio: 0.65, loss: 0.00560146477073431\n",
      "ratio: 0.7, loss: 0.005949191749095917\n",
      "ratio: 0.75, loss: 0.00636623241007328\n",
      "ratio: 0.8, loss: 0.006842256058007479\n",
      "ratio: 0.85, loss: 0.007354417350143194\n",
      "ratio: 0.9, loss: 0.007895702496170998\n",
      "ratio: 0.95, loss: 0.008429460227489471\n"
     ]
    },
    {
     "name": "stderr",
     "output_type": "stream",
     "text": [
      "Running AWQ...:  46%|████▌     | 11/24 [01:22<01:35,  7.37s/it]"
     ]
    },
    {
     "name": "stdout",
     "output_type": "stream",
     "text": [
      "dict_keys(['self_attn.q_proj', 'self_attn.k_proj', 'self_attn.v_proj', 'self_attn.out_proj', 'fc1', 'fc2'])\n",
      "dict_keys(['self_attn.q_proj', 'self_attn.k_proj', 'self_attn.v_proj', 'self_attn.out_proj', 'fc1', 'fc2'])\n",
      "----------\n",
      "ratio: 0.0, loss: 2.783752679824829\n",
      "ratio: 0.05, loss: 2.779613494873047\n",
      "ratio: 0.1, loss: 2.7823479175567627\n",
      "ratio: 0.15, loss: 2.781463861465454\n",
      "ratio: 0.2, loss: 2.7784857749938965\n",
      "ratio: 0.25, loss: 2.782078742980957\n",
      "ratio: 0.3, loss: 2.778337240219116\n",
      "ratio: 0.35, loss: 2.7787346839904785\n",
      "ratio: 0.4, loss: 2.7799720764160156\n",
      "ratio: 0.45, loss: 2.778958797454834\n",
      "ratio: 0.5, loss: 2.779310703277588\n",
      "ratio: 0.55, loss: 2.779071092605591\n",
      "ratio: 0.6, loss: 2.7790849208831787\n",
      "ratio: 0.65, loss: 2.778714179992676\n",
      "ratio: 0.7, loss: 2.7793240547180176\n",
      "ratio: 0.75, loss: 2.779846429824829\n",
      "ratio: 0.8, loss: 2.7797625064849854\n",
      "ratio: 0.85, loss: 2.7791481018066406\n",
      "ratio: 0.9, loss: 2.779136896133423\n",
      "ratio: 0.95, loss: 2.7797396183013916\n",
      "ratio: 0.0, loss: 0.005384393036365509\n",
      "ratio: 0.05, loss: 0.00523721519857645\n",
      "ratio: 0.1, loss: 0.005150991957634687\n",
      "ratio: 0.15, loss: 0.0051044137217104435\n",
      "ratio: 0.2, loss: 0.005074517335742712\n",
      "ratio: 0.25, loss: 0.0050689768977463245\n",
      "ratio: 0.3, loss: 0.005077965557575226\n",
      "ratio: 0.35, loss: 0.005112872924655676\n",
      "ratio: 0.4, loss: 0.005167622584849596\n",
      "ratio: 0.45, loss: 0.005253899376839399\n",
      "ratio: 0.5, loss: 0.005380465183407068\n",
      "ratio: 0.55, loss: 0.005563965532928705\n",
      "ratio: 0.6, loss: 0.0058211530558764935\n",
      "ratio: 0.65, loss: 0.006155306939035654\n",
      "ratio: 0.7, loss: 0.006585078779608011\n",
      "ratio: 0.75, loss: 0.007094592321664095\n",
      "ratio: 0.8, loss: 0.00768903037533164\n",
      "ratio: 0.85, loss: 0.008349649608135223\n",
      "ratio: 0.9, loss: 0.009052297100424767\n",
      "ratio: 0.95, loss: 0.009770705364644527\n"
     ]
    },
    {
     "name": "stderr",
     "output_type": "stream",
     "text": [
      "Running AWQ...:  50%|█████     | 12/24 [01:29<01:28,  7.35s/it]"
     ]
    },
    {
     "name": "stdout",
     "output_type": "stream",
     "text": [
      "dict_keys(['self_attn.q_proj', 'self_attn.k_proj', 'self_attn.v_proj', 'self_attn.out_proj', 'fc1', 'fc2'])\n",
      "dict_keys(['self_attn.q_proj', 'self_attn.k_proj', 'self_attn.v_proj', 'self_attn.out_proj', 'fc1', 'fc2'])\n",
      "----------\n",
      "ratio: 0.0, loss: 2.537404775619507\n",
      "ratio: 0.05, loss: 2.5349228382110596\n",
      "ratio: 0.1, loss: 2.5293986797332764\n",
      "ratio: 0.15, loss: 2.530937910079956\n",
      "ratio: 0.2, loss: 2.535053014755249\n",
      "ratio: 0.25, loss: 2.534853219985962\n",
      "ratio: 0.3, loss: 2.5344443321228027\n",
      "ratio: 0.35, loss: 2.5345876216888428\n",
      "ratio: 0.4, loss: 2.5347743034362793\n",
      "ratio: 0.45, loss: 2.534226655960083\n",
      "ratio: 0.5, loss: 2.534853935241699\n",
      "ratio: 0.55, loss: 2.535165309906006\n",
      "ratio: 0.6, loss: 2.534177780151367\n",
      "ratio: 0.65, loss: 2.5353426933288574\n",
      "ratio: 0.7, loss: 2.5345981121063232\n",
      "ratio: 0.75, loss: 2.5344793796539307\n",
      "ratio: 0.8, loss: 2.5344018936157227\n",
      "ratio: 0.85, loss: 2.5344228744506836\n",
      "ratio: 0.9, loss: 2.534838914871216\n",
      "ratio: 0.95, loss: 2.534512519836426\n",
      "ratio: 0.0, loss: 0.006963026709854603\n",
      "ratio: 0.05, loss: 0.006771944463253021\n",
      "ratio: 0.1, loss: 0.006673915311694145\n",
      "ratio: 0.15, loss: 0.006600142456591129\n",
      "ratio: 0.2, loss: 0.006563055794686079\n",
      "ratio: 0.25, loss: 0.006552080158144236\n",
      "ratio: 0.3, loss: 0.006565318908542395\n",
      "ratio: 0.35, loss: 0.006608161143958569\n",
      "ratio: 0.4, loss: 0.006677695550024509\n",
      "ratio: 0.45, loss: 0.006790087092667818\n",
      "ratio: 0.5, loss: 0.006948527880012989\n",
      "ratio: 0.55, loss: 0.00717790937051177\n",
      "ratio: 0.6, loss: 0.0074903881177306175\n",
      "ratio: 0.65, loss: 0.007901442237198353\n",
      "ratio: 0.7, loss: 0.008427095599472523\n",
      "ratio: 0.75, loss: 0.009067901410162449\n",
      "ratio: 0.8, loss: 0.009815667755901814\n",
      "ratio: 0.85, loss: 0.01065193209797144\n",
      "ratio: 0.9, loss: 0.011535978876054287\n",
      "ratio: 0.95, loss: 0.01244602631777525\n"
     ]
    },
    {
     "name": "stderr",
     "output_type": "stream",
     "text": [
      "Running AWQ...:  54%|█████▍    | 13/24 [01:36<01:19,  7.25s/it]"
     ]
    },
    {
     "name": "stdout",
     "output_type": "stream",
     "text": [
      "dict_keys(['self_attn.q_proj', 'self_attn.k_proj', 'self_attn.v_proj', 'self_attn.out_proj', 'fc1', 'fc2'])\n",
      "dict_keys(['self_attn.q_proj', 'self_attn.k_proj', 'self_attn.v_proj', 'self_attn.out_proj', 'fc1', 'fc2'])\n",
      "----------\n",
      "ratio: 0.0, loss: 2.687138795852661\n",
      "ratio: 0.05, loss: 2.688307762145996\n",
      "ratio: 0.1, loss: 2.6940786838531494\n",
      "ratio: 0.15, loss: 2.7003378868103027\n",
      "ratio: 0.2, loss: 2.703895092010498\n",
      "ratio: 0.25, loss: 2.707336664199829\n",
      "ratio: 0.3, loss: 2.706421375274658\n",
      "ratio: 0.35, loss: 2.7074973583221436\n",
      "ratio: 0.4, loss: 2.709094285964966\n",
      "ratio: 0.45, loss: 2.7076683044433594\n",
      "ratio: 0.5, loss: 2.7082419395446777\n",
      "ratio: 0.55, loss: 2.7080767154693604\n",
      "ratio: 0.6, loss: 2.706428050994873\n",
      "ratio: 0.65, loss: 2.707422971725464\n",
      "ratio: 0.7, loss: 2.7080237865448\n",
      "ratio: 0.75, loss: 2.707259178161621\n",
      "ratio: 0.8, loss: 2.7066714763641357\n",
      "ratio: 0.85, loss: 2.7066707611083984\n",
      "ratio: 0.9, loss: 2.7074294090270996\n",
      "ratio: 0.95, loss: 2.7077457904815674\n",
      "ratio: 0.0, loss: 0.008159367367625237\n",
      "ratio: 0.05, loss: 0.007940449751913548\n",
      "ratio: 0.1, loss: 0.0077928658574819565\n",
      "ratio: 0.15, loss: 0.007696378976106644\n",
      "ratio: 0.2, loss: 0.007647365797311068\n",
      "ratio: 0.25, loss: 0.007632121909409761\n",
      "ratio: 0.3, loss: 0.007645780220627785\n",
      "ratio: 0.35, loss: 0.0076947081834077835\n",
      "ratio: 0.4, loss: 0.007783575914800167\n",
      "ratio: 0.45, loss: 0.007915455847978592\n",
      "ratio: 0.5, loss: 0.008117402903735638\n",
      "ratio: 0.55, loss: 0.00839565321803093\n",
      "ratio: 0.6, loss: 0.008779211901128292\n",
      "ratio: 0.65, loss: 0.009298165328800678\n",
      "ratio: 0.7, loss: 0.009960520081222057\n",
      "ratio: 0.75, loss: 0.010771873407065868\n",
      "ratio: 0.8, loss: 0.011716237291693687\n",
      "ratio: 0.85, loss: 0.012761112302541733\n",
      "ratio: 0.9, loss: 0.01386344525963068\n",
      "ratio: 0.95, loss: 0.015011534094810486\n"
     ]
    },
    {
     "name": "stderr",
     "output_type": "stream",
     "text": [
      "Running AWQ...:  58%|█████▊    | 14/24 [01:44<01:13,  7.34s/it]"
     ]
    },
    {
     "name": "stdout",
     "output_type": "stream",
     "text": [
      "dict_keys(['self_attn.q_proj', 'self_attn.k_proj', 'self_attn.v_proj', 'self_attn.out_proj', 'fc1', 'fc2'])\n",
      "dict_keys(['self_attn.q_proj', 'self_attn.k_proj', 'self_attn.v_proj', 'self_attn.out_proj', 'fc1', 'fc2'])\n",
      "----------\n",
      "ratio: 0.0, loss: 2.8968300819396973\n",
      "ratio: 0.05, loss: 2.902735471725464\n",
      "ratio: 0.1, loss: 2.9070491790771484\n",
      "ratio: 0.15, loss: 2.9120380878448486\n",
      "ratio: 0.2, loss: 2.9160549640655518\n",
      "ratio: 0.25, loss: 2.9147000312805176\n",
      "ratio: 0.3, loss: 2.918846845626831\n",
      "ratio: 0.35, loss: 2.9178683757781982\n",
      "ratio: 0.4, loss: 2.9187827110290527\n",
      "ratio: 0.45, loss: 2.919306993484497\n",
      "ratio: 0.5, loss: 2.918199300765991\n",
      "ratio: 0.55, loss: 2.9181621074676514\n",
      "ratio: 0.6, loss: 2.918179750442505\n",
      "ratio: 0.65, loss: 2.917536497116089\n",
      "ratio: 0.7, loss: 2.917544364929199\n",
      "ratio: 0.75, loss: 2.917771577835083\n",
      "ratio: 0.8, loss: 2.917417049407959\n",
      "ratio: 0.85, loss: 2.9181201457977295\n",
      "ratio: 0.9, loss: 2.917375087738037\n",
      "ratio: 0.95, loss: 2.9175758361816406\n",
      "ratio: 0.0, loss: 0.010469375178217888\n",
      "ratio: 0.05, loss: 0.010119832120835781\n",
      "ratio: 0.1, loss: 0.009904770180583\n",
      "ratio: 0.15, loss: 0.00975526962429285\n",
      "ratio: 0.2, loss: 0.009675762616097927\n",
      "ratio: 0.25, loss: 0.009650600142776966\n",
      "ratio: 0.3, loss: 0.009670100174844265\n",
      "ratio: 0.35, loss: 0.009729908779263496\n",
      "ratio: 0.4, loss: 0.009850339964032173\n",
      "ratio: 0.45, loss: 0.010043726302683353\n",
      "ratio: 0.5, loss: 0.010314658284187317\n",
      "ratio: 0.55, loss: 0.010699364356696606\n",
      "ratio: 0.6, loss: 0.01124178059399128\n",
      "ratio: 0.65, loss: 0.011977708898484707\n",
      "ratio: 0.7, loss: 0.012903459370136261\n",
      "ratio: 0.75, loss: 0.014043399132788181\n",
      "ratio: 0.8, loss: 0.015375829301774502\n",
      "ratio: 0.85, loss: 0.01688310317695141\n",
      "ratio: 0.9, loss: 0.018471626564860344\n",
      "ratio: 0.95, loss: 0.02013145573437214\n"
     ]
    },
    {
     "name": "stderr",
     "output_type": "stream",
     "text": [
      "Running AWQ...:  62%|██████▎   | 15/24 [01:52<01:08,  7.65s/it]"
     ]
    },
    {
     "name": "stdout",
     "output_type": "stream",
     "text": [
      "dict_keys(['self_attn.q_proj', 'self_attn.k_proj', 'self_attn.v_proj', 'self_attn.out_proj', 'fc1', 'fc2'])\n",
      "dict_keys(['self_attn.q_proj', 'self_attn.k_proj', 'self_attn.v_proj', 'self_attn.out_proj', 'fc1', 'fc2'])\n",
      "----------\n",
      "ratio: 0.0, loss: 3.0677976608276367\n",
      "ratio: 0.05, loss: 3.0739142894744873\n",
      "ratio: 0.1, loss: 3.080613613128662\n",
      "ratio: 0.15, loss: 3.0846803188323975\n",
      "ratio: 0.2, loss: 3.0874507427215576\n",
      "ratio: 0.25, loss: 3.0883989334106445\n",
      "ratio: 0.3, loss: 3.0882468223571777\n",
      "ratio: 0.35, loss: 3.089376926422119\n",
      "ratio: 0.4, loss: 3.0869388580322266\n",
      "ratio: 0.45, loss: 3.0883781909942627\n",
      "ratio: 0.5, loss: 3.087677240371704\n",
      "ratio: 0.55, loss: 3.0878541469573975\n",
      "ratio: 0.6, loss: 3.087907075881958\n",
      "ratio: 0.65, loss: 3.0876190662384033\n",
      "ratio: 0.7, loss: 3.087521553039551\n",
      "ratio: 0.75, loss: 3.0876309871673584\n",
      "ratio: 0.8, loss: 3.0883188247680664\n",
      "ratio: 0.85, loss: 3.087419271469116\n",
      "ratio: 0.9, loss: 3.0877151489257812\n",
      "ratio: 0.95, loss: 3.087599039077759\n",
      "ratio: 0.0, loss: 0.017018960788846016\n",
      "ratio: 0.05, loss: 0.01657710038125515\n",
      "ratio: 0.1, loss: 0.01632755994796753\n",
      "ratio: 0.15, loss: 0.016167715191841125\n",
      "ratio: 0.2, loss: 0.016058897599577904\n",
      "ratio: 0.25, loss: 0.016021475195884705\n",
      "ratio: 0.3, loss: 0.016038643196225166\n",
      "ratio: 0.35, loss: 0.016129834577441216\n",
      "ratio: 0.4, loss: 0.016263503581285477\n",
      "ratio: 0.45, loss: 0.016482219099998474\n",
      "ratio: 0.5, loss: 0.016827356070280075\n",
      "ratio: 0.55, loss: 0.017317630350589752\n",
      "ratio: 0.6, loss: 0.01797790266573429\n",
      "ratio: 0.65, loss: 0.01884978450834751\n",
      "ratio: 0.7, loss: 0.019966471940279007\n",
      "ratio: 0.75, loss: 0.02132350392639637\n",
      "ratio: 0.8, loss: 0.02294166199862957\n",
      "ratio: 0.85, loss: 0.024716505780816078\n",
      "ratio: 0.9, loss: 0.026617418974637985\n",
      "ratio: 0.95, loss: 0.028628649190068245\n"
     ]
    },
    {
     "name": "stderr",
     "output_type": "stream",
     "text": [
      "Running AWQ...:  67%|██████▋   | 16/24 [01:59<00:59,  7.38s/it]"
     ]
    },
    {
     "name": "stdout",
     "output_type": "stream",
     "text": [
      "dict_keys(['self_attn.q_proj', 'self_attn.k_proj', 'self_attn.v_proj', 'self_attn.out_proj', 'fc1', 'fc2'])\n",
      "dict_keys(['self_attn.q_proj', 'self_attn.k_proj', 'self_attn.v_proj', 'self_attn.out_proj', 'fc1', 'fc2'])\n",
      "----------\n",
      "ratio: 0.0, loss: 3.606783628463745\n",
      "ratio: 0.05, loss: 3.6136813163757324\n",
      "ratio: 0.1, loss: 3.618504285812378\n",
      "ratio: 0.15, loss: 3.620058536529541\n",
      "ratio: 0.2, loss: 3.6217942237854004\n",
      "ratio: 0.25, loss: 3.624103546142578\n",
      "ratio: 0.3, loss: 3.622575521469116\n",
      "ratio: 0.35, loss: 3.623767852783203\n",
      "ratio: 0.4, loss: 3.625082015991211\n",
      "ratio: 0.45, loss: 3.6245815753936768\n",
      "ratio: 0.5, loss: 3.6247239112854004\n",
      "ratio: 0.55, loss: 3.6239705085754395\n",
      "ratio: 0.6, loss: 3.6247060298919678\n",
      "ratio: 0.65, loss: 3.6250128746032715\n",
      "ratio: 0.7, loss: 3.6245810985565186\n",
      "ratio: 0.75, loss: 3.624676465988159\n",
      "ratio: 0.8, loss: 3.6246776580810547\n",
      "ratio: 0.85, loss: 3.6248395442962646\n",
      "ratio: 0.9, loss: 3.624539375305176\n",
      "ratio: 0.95, loss: 3.6250083446502686\n",
      "ratio: 0.0, loss: 0.024313105270266533\n",
      "ratio: 0.05, loss: 0.023732341825962067\n",
      "ratio: 0.1, loss: 0.02343078888952732\n",
      "ratio: 0.15, loss: 0.023174351081252098\n",
      "ratio: 0.2, loss: 0.02308552712202072\n",
      "ratio: 0.25, loss: 0.02304689958691597\n",
      "ratio: 0.3, loss: 0.02307339571416378\n",
      "ratio: 0.35, loss: 0.023165516555309296\n",
      "ratio: 0.4, loss: 0.023392992094159126\n",
      "ratio: 0.45, loss: 0.02370753325521946\n",
      "ratio: 0.5, loss: 0.024172721430659294\n",
      "ratio: 0.55, loss: 0.02485635131597519\n",
      "ratio: 0.6, loss: 0.02572660893201828\n",
      "ratio: 0.65, loss: 0.02690863236784935\n",
      "ratio: 0.7, loss: 0.02837543562054634\n",
      "ratio: 0.75, loss: 0.03024597093462944\n",
      "ratio: 0.8, loss: 0.03240862116217613\n",
      "ratio: 0.85, loss: 0.03483165428042412\n",
      "ratio: 0.9, loss: 0.0374051071703434\n",
      "ratio: 0.95, loss: 0.040057312697172165\n"
     ]
    },
    {
     "name": "stderr",
     "output_type": "stream",
     "text": [
      "Running AWQ...:  71%|███████   | 17/24 [02:06<00:52,  7.43s/it]"
     ]
    },
    {
     "name": "stdout",
     "output_type": "stream",
     "text": [
      "dict_keys(['self_attn.q_proj', 'self_attn.k_proj', 'self_attn.v_proj', 'self_attn.out_proj', 'fc1', 'fc2'])\n",
      "dict_keys(['self_attn.q_proj', 'self_attn.k_proj', 'self_attn.v_proj', 'self_attn.out_proj', 'fc1', 'fc2'])\n",
      "----------\n",
      "ratio: 0.0, loss: 4.098090171813965\n",
      "ratio: 0.05, loss: 4.102348327636719\n",
      "ratio: 0.1, loss: 4.105107307434082\n",
      "ratio: 0.15, loss: 4.109041690826416\n",
      "ratio: 0.2, loss: 4.113092422485352\n",
      "ratio: 0.25, loss: 4.113900661468506\n",
      "ratio: 0.3, loss: 4.113001346588135\n",
      "ratio: 0.35, loss: 4.112967014312744\n",
      "ratio: 0.4, loss: 4.114288330078125\n",
      "ratio: 0.45, loss: 4.113400936126709\n",
      "ratio: 0.5, loss: 4.113714218139648\n",
      "ratio: 0.55, loss: 4.1133880615234375\n",
      "ratio: 0.6, loss: 4.114016532897949\n",
      "ratio: 0.65, loss: 4.114101886749268\n",
      "ratio: 0.7, loss: 4.113901138305664\n",
      "ratio: 0.75, loss: 4.1137566566467285\n",
      "ratio: 0.8, loss: 4.113761901855469\n",
      "ratio: 0.85, loss: 4.113729000091553\n",
      "ratio: 0.9, loss: 4.113042831420898\n",
      "ratio: 0.95, loss: 4.11354923248291\n",
      "ratio: 0.0, loss: 0.03893859311938286\n",
      "ratio: 0.05, loss: 0.03836948424577713\n",
      "ratio: 0.1, loss: 0.03797871619462967\n",
      "ratio: 0.15, loss: 0.03776586800813675\n",
      "ratio: 0.2, loss: 0.03762272372841835\n",
      "ratio: 0.25, loss: 0.03757696971297264\n",
      "ratio: 0.3, loss: 0.03765842691063881\n",
      "ratio: 0.35, loss: 0.037821318954229355\n",
      "ratio: 0.4, loss: 0.0380648635327816\n",
      "ratio: 0.45, loss: 0.03843163326382637\n",
      "ratio: 0.5, loss: 0.03907182440161705\n",
      "ratio: 0.55, loss: 0.03988821804523468\n",
      "ratio: 0.6, loss: 0.04101042449474335\n",
      "ratio: 0.65, loss: 0.04240069538354874\n",
      "ratio: 0.7, loss: 0.04412619769573212\n",
      "ratio: 0.75, loss: 0.04628665745258331\n",
      "ratio: 0.8, loss: 0.04886927083134651\n",
      "ratio: 0.85, loss: 0.05176291614770889\n",
      "ratio: 0.9, loss: 0.054555099457502365\n",
      "ratio: 0.95, loss: 0.057717688381671906\n"
     ]
    },
    {
     "name": "stderr",
     "output_type": "stream",
     "text": [
      "Running AWQ...:  75%|███████▌  | 18/24 [02:14<00:44,  7.44s/it]"
     ]
    },
    {
     "name": "stdout",
     "output_type": "stream",
     "text": [
      "dict_keys(['self_attn.q_proj', 'self_attn.k_proj', 'self_attn.v_proj', 'self_attn.out_proj', 'fc1', 'fc2'])\n",
      "dict_keys(['self_attn.q_proj', 'self_attn.k_proj', 'self_attn.v_proj', 'self_attn.out_proj', 'fc1', 'fc2'])\n",
      "----------\n",
      "ratio: 0.0, loss: 4.507205486297607\n",
      "ratio: 0.05, loss: 4.5077691078186035\n",
      "ratio: 0.1, loss: 4.5126633644104\n",
      "ratio: 0.15, loss: 4.51412296295166\n",
      "ratio: 0.2, loss: 4.514819145202637\n",
      "ratio: 0.25, loss: 4.515303611755371\n",
      "ratio: 0.3, loss: 4.516749382019043\n",
      "ratio: 0.35, loss: 4.516157150268555\n",
      "ratio: 0.4, loss: 4.517371654510498\n",
      "ratio: 0.45, loss: 4.516531467437744\n",
      "ratio: 0.5, loss: 4.517207145690918\n",
      "ratio: 0.55, loss: 4.516160011291504\n",
      "ratio: 0.6, loss: 4.51605224609375\n",
      "ratio: 0.65, loss: 4.5159430503845215\n",
      "ratio: 0.7, loss: 4.515417575836182\n",
      "ratio: 0.75, loss: 4.51545524597168\n",
      "ratio: 0.8, loss: 4.516058444976807\n",
      "ratio: 0.85, loss: 4.5158209800720215\n",
      "ratio: 0.9, loss: 4.515748500823975\n",
      "ratio: 0.95, loss: 4.5158491134643555\n",
      "ratio: 0.0, loss: 0.043424397706985474\n",
      "ratio: 0.05, loss: 0.04279116913676262\n",
      "ratio: 0.1, loss: 0.04230714961886406\n",
      "ratio: 0.15, loss: 0.042090799659490585\n",
      "ratio: 0.2, loss: 0.041909124702215195\n",
      "ratio: 0.25, loss: 0.0419003888964653\n",
      "ratio: 0.3, loss: 0.04196395352482796\n",
      "ratio: 0.35, loss: 0.04214813932776451\n",
      "ratio: 0.4, loss: 0.042434994131326675\n",
      "ratio: 0.45, loss: 0.04291965812444687\n",
      "ratio: 0.5, loss: 0.04353247955441475\n",
      "ratio: 0.55, loss: 0.044370390474796295\n",
      "ratio: 0.6, loss: 0.04556892439723015\n",
      "ratio: 0.65, loss: 0.0471370555460453\n",
      "ratio: 0.7, loss: 0.04901222512125969\n",
      "ratio: 0.75, loss: 0.051448896527290344\n",
      "ratio: 0.8, loss: 0.05420391261577606\n",
      "ratio: 0.85, loss: 0.057386886328458786\n",
      "ratio: 0.9, loss: 0.06106296554207802\n",
      "ratio: 0.95, loss: 0.06494246423244476\n"
     ]
    },
    {
     "name": "stderr",
     "output_type": "stream",
     "text": [
      "Running AWQ...:  79%|███████▉  | 19/24 [02:22<00:38,  7.64s/it]"
     ]
    },
    {
     "name": "stdout",
     "output_type": "stream",
     "text": [
      "dict_keys(['self_attn.q_proj', 'self_attn.k_proj', 'self_attn.v_proj', 'self_attn.out_proj', 'fc1', 'fc2'])\n",
      "dict_keys(['self_attn.q_proj', 'self_attn.k_proj', 'self_attn.v_proj', 'self_attn.out_proj', 'fc1', 'fc2'])\n",
      "----------\n",
      "ratio: 0.0, loss: 5.008797645568848\n",
      "ratio: 0.05, loss: 5.009836196899414\n",
      "ratio: 0.1, loss: 5.012081146240234\n",
      "ratio: 0.15, loss: 5.012326240539551\n",
      "ratio: 0.2, loss: 5.013529300689697\n",
      "ratio: 0.25, loss: 5.014819622039795\n",
      "ratio: 0.3, loss: 5.013433933258057\n",
      "ratio: 0.35, loss: 5.013425827026367\n",
      "ratio: 0.4, loss: 5.01279878616333\n",
      "ratio: 0.45, loss: 5.013525485992432\n",
      "ratio: 0.5, loss: 5.013399600982666\n",
      "ratio: 0.55, loss: 5.013429641723633\n",
      "ratio: 0.6, loss: 5.012959003448486\n",
      "ratio: 0.65, loss: 5.012485980987549\n",
      "ratio: 0.7, loss: 5.012461185455322\n",
      "ratio: 0.75, loss: 5.012942790985107\n",
      "ratio: 0.8, loss: 5.012975215911865\n",
      "ratio: 0.85, loss: 5.013162136077881\n",
      "ratio: 0.9, loss: 5.013697624206543\n",
      "ratio: 0.95, loss: 5.013622283935547\n",
      "ratio: 0.0, loss: 0.07589181512594223\n",
      "ratio: 0.05, loss: 0.0751609057188034\n",
      "ratio: 0.1, loss: 0.07465419173240662\n",
      "ratio: 0.15, loss: 0.07434183359146118\n",
      "ratio: 0.2, loss: 0.07423867285251617\n",
      "ratio: 0.25, loss: 0.07422465085983276\n",
      "ratio: 0.3, loss: 0.07429873198270798\n",
      "ratio: 0.35, loss: 0.07452620565891266\n",
      "ratio: 0.4, loss: 0.074830062687397\n",
      "ratio: 0.45, loss: 0.07536046206951141\n",
      "ratio: 0.5, loss: 0.0761215090751648\n",
      "ratio: 0.55, loss: 0.07708866149187088\n",
      "ratio: 0.6, loss: 0.07847940176725388\n",
      "ratio: 0.65, loss: 0.08011959493160248\n",
      "ratio: 0.7, loss: 0.08215904980897903\n",
      "ratio: 0.75, loss: 0.08466300368309021\n",
      "ratio: 0.8, loss: 0.0875486433506012\n",
      "ratio: 0.85, loss: 0.09072732925415039\n",
      "ratio: 0.9, loss: 0.09440156817436218\n",
      "ratio: 0.95, loss: 0.09858254343271255\n"
     ]
    },
    {
     "name": "stderr",
     "output_type": "stream",
     "text": [
      "Running AWQ...:  83%|████████▎ | 20/24 [02:29<00:29,  7.48s/it]"
     ]
    },
    {
     "name": "stdout",
     "output_type": "stream",
     "text": [
      "dict_keys(['self_attn.q_proj', 'self_attn.k_proj', 'self_attn.v_proj', 'self_attn.out_proj', 'fc1', 'fc2'])\n",
      "dict_keys(['self_attn.q_proj', 'self_attn.k_proj', 'self_attn.v_proj', 'self_attn.out_proj', 'fc1', 'fc2'])\n",
      "----------\n",
      "ratio: 0.0, loss: 5.2321906089782715\n",
      "ratio: 0.05, loss: 5.233692169189453\n",
      "ratio: 0.1, loss: 5.235561370849609\n",
      "ratio: 0.15, loss: 5.236658573150635\n",
      "ratio: 0.2, loss: 5.23853063583374\n",
      "ratio: 0.25, loss: 5.237856864929199\n",
      "ratio: 0.3, loss: 5.238380432128906\n",
      "ratio: 0.35, loss: 5.238424301147461\n",
      "ratio: 0.4, loss: 5.237058639526367\n",
      "ratio: 0.45, loss: 5.236603736877441\n",
      "ratio: 0.5, loss: 5.236937522888184\n",
      "ratio: 0.55, loss: 5.236280918121338\n",
      "ratio: 0.6, loss: 5.236105918884277\n",
      "ratio: 0.65, loss: 5.236388206481934\n",
      "ratio: 0.7, loss: 5.236429214477539\n",
      "ratio: 0.75, loss: 5.236907958984375\n",
      "ratio: 0.8, loss: 5.236187934875488\n",
      "ratio: 0.85, loss: 5.236227512359619\n",
      "ratio: 0.9, loss: 5.236375331878662\n",
      "ratio: 0.95, loss: 5.236305236816406\n",
      "ratio: 0.0, loss: 0.13064898550510406\n",
      "ratio: 0.05, loss: 0.13008245825767517\n",
      "ratio: 0.1, loss: 0.12930715084075928\n",
      "ratio: 0.15, loss: 0.12903724610805511\n",
      "ratio: 0.2, loss: 0.1288268268108368\n",
      "ratio: 0.25, loss: 0.12884514033794403\n",
      "ratio: 0.3, loss: 0.12896382808685303\n",
      "ratio: 0.35, loss: 0.12932509183883667\n",
      "ratio: 0.4, loss: 0.12978479266166687\n",
      "ratio: 0.45, loss: 0.13046641647815704\n",
      "ratio: 0.5, loss: 0.13136187195777893\n",
      "ratio: 0.55, loss: 0.13263170421123505\n",
      "ratio: 0.6, loss: 0.13418997824192047\n",
      "ratio: 0.65, loss: 0.13609765470027924\n",
      "ratio: 0.7, loss: 0.13874877989292145\n",
      "ratio: 0.75, loss: 0.14185725152492523\n",
      "ratio: 0.8, loss: 0.14543209969997406\n",
      "ratio: 0.85, loss: 0.1495753973722458\n",
      "ratio: 0.9, loss: 0.15416371822357178\n",
      "ratio: 0.95, loss: 0.15891622006893158\n"
     ]
    },
    {
     "name": "stderr",
     "output_type": "stream",
     "text": [
      "Running AWQ...:  88%|████████▊ | 21/24 [02:36<00:22,  7.41s/it]"
     ]
    },
    {
     "name": "stdout",
     "output_type": "stream",
     "text": [
      "dict_keys(['self_attn.q_proj', 'self_attn.k_proj', 'self_attn.v_proj', 'self_attn.out_proj', 'fc1', 'fc2'])\n",
      "dict_keys(['self_attn.q_proj', 'self_attn.k_proj', 'self_attn.v_proj', 'self_attn.out_proj', 'fc1', 'fc2'])\n",
      "----------\n",
      "ratio: 0.0, loss: 5.1417460441589355\n",
      "ratio: 0.05, loss: 5.141580104827881\n",
      "ratio: 0.1, loss: 5.142418384552002\n",
      "ratio: 0.15, loss: 5.142065048217773\n",
      "ratio: 0.2, loss: 5.141053199768066\n",
      "ratio: 0.25, loss: 5.140204429626465\n",
      "ratio: 0.3, loss: 5.140500068664551\n",
      "ratio: 0.35, loss: 5.141408443450928\n",
      "ratio: 0.4, loss: 5.140435218811035\n",
      "ratio: 0.45, loss: 5.139959812164307\n",
      "ratio: 0.5, loss: 5.139729976654053\n",
      "ratio: 0.55, loss: 5.139832496643066\n",
      "ratio: 0.6, loss: 5.1397809982299805\n",
      "ratio: 0.65, loss: 5.13938570022583\n",
      "ratio: 0.7, loss: 5.138613224029541\n",
      "ratio: 0.75, loss: 5.139151096343994\n",
      "ratio: 0.8, loss: 5.139272689819336\n",
      "ratio: 0.85, loss: 5.139551162719727\n",
      "ratio: 0.9, loss: 5.140227794647217\n",
      "ratio: 0.95, loss: 5.139985084533691\n",
      "ratio: 0.0, loss: 0.15806381404399872\n",
      "ratio: 0.05, loss: 0.1570551097393036\n",
      "ratio: 0.1, loss: 0.15632519125938416\n",
      "ratio: 0.15, loss: 0.15590989589691162\n",
      "ratio: 0.2, loss: 0.15577800571918488\n",
      "ratio: 0.25, loss: 0.1557963788509369\n",
      "ratio: 0.3, loss: 0.15601222217082977\n",
      "ratio: 0.35, loss: 0.1563464254140854\n",
      "ratio: 0.4, loss: 0.15691915154457092\n",
      "ratio: 0.45, loss: 0.15782128274440765\n",
      "ratio: 0.5, loss: 0.15895505249500275\n",
      "ratio: 0.55, loss: 0.1605144441127777\n",
      "ratio: 0.6, loss: 0.16246159374713898\n",
      "ratio: 0.65, loss: 0.16487564146518707\n",
      "ratio: 0.7, loss: 0.16792434453964233\n",
      "ratio: 0.75, loss: 0.17150768637657166\n",
      "ratio: 0.8, loss: 0.1757621020078659\n",
      "ratio: 0.85, loss: 0.18058764934539795\n",
      "ratio: 0.9, loss: 0.18606866896152496\n",
      "ratio: 0.95, loss: 0.19182728230953217\n"
     ]
    },
    {
     "name": "stderr",
     "output_type": "stream",
     "text": [
      "Running AWQ...:  92%|█████████▏| 22/24 [02:44<00:14,  7.43s/it]"
     ]
    },
    {
     "name": "stdout",
     "output_type": "stream",
     "text": [
      "dict_keys(['self_attn.q_proj', 'self_attn.k_proj', 'self_attn.v_proj', 'self_attn.out_proj', 'fc1', 'fc2'])\n",
      "dict_keys(['self_attn.q_proj', 'self_attn.k_proj', 'self_attn.v_proj', 'self_attn.out_proj', 'fc1', 'fc2'])\n",
      "----------\n",
      "ratio: 0.0, loss: 4.91106653213501\n",
      "ratio: 0.05, loss: 4.911135673522949\n",
      "ratio: 0.1, loss: 4.911931037902832\n",
      "ratio: 0.15, loss: 4.911045551300049\n",
      "ratio: 0.2, loss: 4.911061763763428\n",
      "ratio: 0.25, loss: 4.911036014556885\n",
      "ratio: 0.3, loss: 4.909476280212402\n",
      "ratio: 0.35, loss: 4.90964937210083\n",
      "ratio: 0.4, loss: 4.909162521362305\n",
      "ratio: 0.45, loss: 4.9094038009643555\n",
      "ratio: 0.5, loss: 4.90944766998291\n",
      "ratio: 0.55, loss: 4.909997940063477\n",
      "ratio: 0.6, loss: 4.9101948738098145\n",
      "ratio: 0.65, loss: 4.909687042236328\n",
      "ratio: 0.7, loss: 4.909558296203613\n",
      "ratio: 0.75, loss: 4.90934944152832\n",
      "ratio: 0.8, loss: 4.908905982971191\n",
      "ratio: 0.85, loss: 4.90927267074585\n",
      "ratio: 0.9, loss: 4.90928316116333\n",
      "ratio: 0.95, loss: 4.909463882446289\n",
      "ratio: 0.0, loss: 0.2129235714673996\n",
      "ratio: 0.05, loss: 0.21155500411987305\n",
      "ratio: 0.1, loss: 0.21081721782684326\n",
      "ratio: 0.15, loss: 0.20994633436203003\n",
      "ratio: 0.2, loss: 0.20968908071517944\n",
      "ratio: 0.25, loss: 0.20982521772384644\n",
      "ratio: 0.3, loss: 0.20995354652404785\n",
      "ratio: 0.35, loss: 0.21054956316947937\n",
      "ratio: 0.4, loss: 0.21108478307724\n",
      "ratio: 0.45, loss: 0.21208107471466064\n",
      "ratio: 0.5, loss: 0.21340100467205048\n",
      "ratio: 0.55, loss: 0.21507452428340912\n",
      "ratio: 0.6, loss: 0.21729135513305664\n",
      "ratio: 0.65, loss: 0.2201698124408722\n",
      "ratio: 0.7, loss: 0.22360727190971375\n",
      "ratio: 0.75, loss: 0.22791144251823425\n",
      "ratio: 0.8, loss: 0.2331341803073883\n",
      "ratio: 0.85, loss: 0.2389397770166397\n",
      "ratio: 0.9, loss: 0.24539786577224731\n",
      "ratio: 0.95, loss: 0.25218769907951355\n"
     ]
    },
    {
     "name": "stderr",
     "output_type": "stream",
     "text": [
      "Running AWQ...:  96%|█████████▌| 23/24 [02:53<00:07,  7.81s/it]"
     ]
    },
    {
     "name": "stdout",
     "output_type": "stream",
     "text": [
      "dict_keys(['self_attn.q_proj', 'self_attn.k_proj', 'self_attn.v_proj', 'self_attn.out_proj', 'fc1', 'fc2'])\n",
      "dict_keys(['self_attn.q_proj', 'self_attn.k_proj', 'self_attn.v_proj', 'self_attn.out_proj', 'fc1', 'fc2'])\n",
      "----------\n",
      "ratio: 0.0, loss: 4.252490043640137\n",
      "ratio: 0.05, loss: 4.252146244049072\n",
      "ratio: 0.1, loss: 4.2516350746154785\n",
      "ratio: 0.15, loss: 4.251548767089844\n",
      "ratio: 0.2, loss: 4.252331256866455\n",
      "ratio: 0.25, loss: 4.2508225440979\n",
      "ratio: 0.3, loss: 4.251089096069336\n",
      "ratio: 0.35, loss: 4.2515482902526855\n",
      "ratio: 0.4, loss: 4.2508134841918945\n",
      "ratio: 0.45, loss: 4.251100063323975\n",
      "ratio: 0.5, loss: 4.250777721405029\n",
      "ratio: 0.55, loss: 4.25013542175293\n",
      "ratio: 0.6, loss: 4.250169277191162\n",
      "ratio: 0.65, loss: 4.250665187835693\n",
      "ratio: 0.7, loss: 4.250792503356934\n",
      "ratio: 0.75, loss: 4.25083065032959\n",
      "ratio: 0.8, loss: 4.250692367553711\n",
      "ratio: 0.85, loss: 4.2504777908325195\n",
      "ratio: 0.9, loss: 4.250931739807129\n",
      "ratio: 0.95, loss: 4.251259803771973\n",
      "ratio: 0.0, loss: 0.17429298162460327\n",
      "ratio: 0.05, loss: 0.17273369431495667\n",
      "ratio: 0.1, loss: 0.17186254262924194\n",
      "ratio: 0.15, loss: 0.17121011018753052\n",
      "ratio: 0.2, loss: 0.17091915011405945\n",
      "ratio: 0.25, loss: 0.1708083301782608\n",
      "ratio: 0.3, loss: 0.17082151770591736\n",
      "ratio: 0.35, loss: 0.1711905598640442\n",
      "ratio: 0.4, loss: 0.17169256508350372\n",
      "ratio: 0.45, loss: 0.17222709953784943\n",
      "ratio: 0.5, loss: 0.17325277626514435\n",
      "ratio: 0.55, loss: 0.1748509556055069\n",
      "ratio: 0.6, loss: 0.17683842778205872\n",
      "ratio: 0.65, loss: 0.17926442623138428\n",
      "ratio: 0.7, loss: 0.18246890604496002\n",
      "ratio: 0.75, loss: 0.18617284297943115\n",
      "ratio: 0.8, loss: 0.19055576622486115\n",
      "ratio: 0.85, loss: 0.1955379843711853\n",
      "ratio: 0.9, loss: 0.2011277973651886\n",
      "ratio: 0.95, loss: 0.20645329356193542\n"
     ]
    },
    {
     "name": "stderr",
     "output_type": "stream",
     "text": [
      "Running AWQ...: 100%|██████████| 24/24 [03:00<00:00,  7.52s/it]\n"
     ]
    }
   ],
   "source": [
    "from awq.quantize.pre_quant_lester import run_awq, apply_awq\n",
    "from typing import Literal\n",
    "\n",
    "ActQuantType = Literal[\"per_token\", \"per_tensor\", \"none\"]\n",
    "\n",
    "q_config = {\n",
    "    \"zero_point\": True,  # by default True\n",
    "    \"q_group_size\": 256,  # whether to use group quantization\n",
    "    \"w_n_bits\": 4,\n",
    "    \"a_n_bits\": 4,\n",
    "    \"act_quant\": \"per_tensor\",\n",
    "}\n",
    "\n",
    "model = AutoModelForCausalLM.from_pretrained(\n",
    "    model_path, torch_dtype=torch_dtype, device_map=\"auto\"\n",
    ")\n",
    "\n",
    "awq_results = run_awq(\n",
    "    model,\n",
    "    tokenizer,\n",
    "    w_bit=q_config[\"w_n_bits\"],\n",
    "    q_config=q_config,\n",
    "    n_samples=128,\n",
    "    seqlen=512,\n",
    ")"
   ]
  },
  {
   "cell_type": "code",
   "execution_count": 49,
   "metadata": {},
   "outputs": [
    {
     "name": "stdout",
     "output_type": "stream",
     "text": [
      "AWQ results saved at awq_results.pt\n"
     ]
    }
   ],
   "source": [
    "dump_awq = \"awq_results.pt\"\n",
    "torch.save(awq_results, dump_awq)\n",
    "print(\"AWQ results saved at\", dump_awq)\n",
    "#"
   ]
  },
  {
   "cell_type": "code",
   "execution_count": 50,
   "metadata": {},
   "outputs": [],
   "source": [
    "### load awq\n",
    "\n",
    "load_awq = \"awq_results.pt\"\n",
    "awq_results = torch.load(load_awq, map_location=\"cpu\")"
   ]
  },
  {
   "cell_type": "code",
   "execution_count": 51,
   "metadata": {},
   "outputs": [
    {
     "data": {
      "text/plain": [
       "{'zero_point': True,\n",
       " 'q_group_size': 256,\n",
       " 'w_n_bits': 4,\n",
       " 'a_n_bits': 4,\n",
       " 'act_quant': 'per_tensor'}"
      ]
     },
     "execution_count": 51,
     "metadata": {},
     "output_type": "execute_result"
    }
   ],
   "source": [
    "q_config"
   ]
  },
  {
   "cell_type": "code",
   "execution_count": 52,
   "metadata": {},
   "outputs": [],
   "source": [
    "\n",
    "from transformers.models.opt.modeling_opt import OPTDecoderLayer\n",
    "from awq.quantize.fake_quant_lester import quantize_opt_model\n",
    "\n",
    "model = AutoModelForCausalLM.from_pretrained(\n",
    "    model_path, torch_dtype=torch_dtype, device_map=\"auto\"\n",
    ")\n",
    "\n",
    "# apply the AWQ results\n",
    "apply_awq(model, awq_results)\n",
    "\n",
    "model = quantize_opt_model(\n",
    "    model,\n",
    "    w_n_bits=q_config[\"w_n_bits\"],\n",
    "    a_n_bits=q_config[\"a_n_bits\"],\n",
    "    act_quant=q_config[\"act_quant\"],\n",
    "    group_size=q_config[\"q_group_size\"],\n",
    ")\n"
   ]
  },
  {
   "cell_type": "code",
   "execution_count": 53,
   "metadata": {},
   "outputs": [
    {
     "data": {
      "text/plain": [
       "OPTForCausalLM(\n",
       "  (model): OPTModel(\n",
       "    (decoder): OPTDecoder(\n",
       "      (embed_tokens): Embedding(50272, 2048, padding_idx=1)\n",
       "      (embed_positions): OPTLearnedPositionalEmbedding(2050, 2048)\n",
       "      (final_layer_norm): LayerNorm((2048,), eps=1e-05, elementwise_affine=True)\n",
       "      (layers): ModuleList(\n",
       "        (0-23): 24 x OPTDecoderLayer(\n",
       "          (self_attn): OPTAttention(\n",
       "            (k_proj): Linear(in_features=2048, out_features=2048, bias=True)\n",
       "            (v_proj): Linear(in_features=2048, out_features=2048, bias=True)\n",
       "            (q_proj): Linear(in_features=2048, out_features=2048, bias=True)\n",
       "            (out_proj): Linear(in_features=2048, out_features=2048, bias=True)\n",
       "          )\n",
       "          (activation_fn): ReLU()\n",
       "          (self_attn_layer_norm): LayerNorm((2048,), eps=1e-05, elementwise_affine=True)\n",
       "          (fc1): QuantizedLinear()\n",
       "          (fc2): QuantizedLinear()\n",
       "          (final_layer_norm): LayerNorm((2048,), eps=1e-05, elementwise_affine=True)\n",
       "        )\n",
       "      )\n",
       "    )\n",
       "  )\n",
       "  (lm_head): Linear(in_features=2048, out_features=50272, bias=False)\n",
       ")"
      ]
     },
     "execution_count": 53,
     "metadata": {},
     "output_type": "execute_result"
    }
   ],
   "source": [
    "torch.cuda.empty_cache()\n",
    "model.cuda()"
   ]
  },
  {
   "cell_type": "code",
   "execution_count": 54,
   "metadata": {},
   "outputs": [
    {
     "name": "stderr",
     "output_type": "stream",
     "text": [
      "evaluating...: 100%|██████████| 40/40 [00:21<00:00,  1.86it/s]"
     ]
    },
    {
     "name": "stdout",
     "output_type": "stream",
     "text": [
      "\n",
      "model perplexity: 23815.02\n",
      "model size: 248.04 MiB\n"
     ]
    },
    {
     "name": "stderr",
     "output_type": "stream",
     "text": [
      "\n"
     ]
    }
   ],
   "source": [
    "# Evaluate the model\n",
    "model_perplexity = evaluate(model, tokenizer)\n",
    "model_size = get_model_size(model, data_width=q_config[\"w_n_bits\"], group_size=q_config[\"q_group_size\"])\n",
    "print(f\"\\nmodel perplexity: {model_perplexity:.2f}\")\n",
    "print(f\"model size: {model_size/MiB:.2f} MiB\")"
   ]
  },
  {
   "cell_type": "code",
   "execution_count": 42,
   "metadata": {},
   "outputs": [
    {
     "name": "stdout",
     "output_type": "stream",
     "text": [
      "hi\n"
     ]
    }
   ],
   "source": [
    "\n",
    "print(\"hi\")"
   ]
  },
  {
   "cell_type": "markdown",
   "metadata": {},
   "source": [
    "## RANDOM STUFF"
   ]
  },
  {
   "cell_type": "code",
   "execution_count": 43,
   "metadata": {},
   "outputs": [],
   "source": [
    "from awq.quantize.pre_quant_lester import get_blocks"
   ]
  },
  {
   "cell_type": "code",
   "execution_count": 44,
   "metadata": {},
   "outputs": [],
   "source": [
    "for layer in get_blocks(model):\n",
    "    # layer.fc1\n",
    "    # layer.fc2\n",
    "    # print(\"hi\")\n",
    "    break"
   ]
  },
  {
   "cell_type": "code",
   "execution_count": 45,
   "metadata": {},
   "outputs": [],
   "source": [
    "from copy import deepcopy\n",
    "\n",
    "x = deepcopy(layer)"
   ]
  },
  {
   "cell_type": "code",
   "execution_count": 46,
   "metadata": {},
   "outputs": [
    {
     "data": {
      "text/plain": [
       "tensor([[ 3.1622e-04,  2.4802e-05, -1.9221e-04,  ...,  1.8563e-04,\n",
       "          6.4971e-04,  2.0110e-04],\n",
       "        [ 5.2574e-05,  2.9792e-04,  3.6802e-04,  ..., -6.5032e-04,\n",
       "         -3.0992e-04, -1.0161e-04],\n",
       "        [-2.0619e-04, -1.8504e-04,  1.9033e-04,  ..., -2.7781e-04,\n",
       "          5.7877e-06,  3.2990e-04],\n",
       "        ...,\n",
       "        [ 3.4242e-04,  1.7121e-04, -1.6377e-04,  ...,  2.4482e-04,\n",
       "         -1.8939e-04,  2.0787e-04],\n",
       "        [-5.0239e-05,  1.1722e-04, -1.1722e-04,  ...,  1.6503e-04,\n",
       "          1.0045e-04, -2.8701e-04],\n",
       "        [-4.2769e-05,  0.0000e+00,  2.5234e-04,  ..., -1.2389e-05,\n",
       "         -2.8908e-05,  9.9112e-05]], device='cuda:0')"
      ]
     },
     "execution_count": 46,
     "metadata": {},
     "output_type": "execute_result"
    }
   ],
   "source": [
    "x.fc1.weight.data[:] = 1.0\n",
    "# x.fc1.weight.data\n",
    "\n",
    "layer.fc1.weight.data"
   ]
  },
  {
   "cell_type": "code",
   "execution_count": 47,
   "metadata": {},
   "outputs": [
    {
     "data": {
      "text/plain": [
       "True"
      ]
     },
     "execution_count": 47,
     "metadata": {},
     "output_type": "execute_result"
    }
   ],
   "source": [
    "isinstance(layer, OPTDecoderLayer)"
   ]
  },
  {
   "cell_type": "code",
   "execution_count": null,
   "metadata": {},
   "outputs": [],
   "source": []
  }
 ],
 "metadata": {
  "kernelspec": {
   "display_name": "awq",
   "language": "python",
   "name": "python3"
  },
  "language_info": {
   "codemirror_mode": {
    "name": "ipython",
    "version": 3
   },
   "file_extension": ".py",
   "mimetype": "text/x-python",
   "name": "python",
   "nbconvert_exporter": "python",
   "pygments_lexer": "ipython3",
   "version": "3.10.15"
  }
 },
 "nbformat": 4,
 "nbformat_minor": 2
}
