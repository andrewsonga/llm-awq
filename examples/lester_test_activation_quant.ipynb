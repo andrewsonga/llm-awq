{
 "cells": [
  {
   "cell_type": "code",
   "execution_count": 1,
   "metadata": {},
   "outputs": [],
   "source": [
    "%load_ext autoreload\n",
    "%autoreload 2"
   ]
  },
  {
   "cell_type": "code",
   "execution_count": 2,
   "metadata": {},
   "outputs": [],
   "source": [
    "import os\n",
    "\n",
    "os.environ[\"CUDA_VISIBLE_DEVICES\"] = \"6\""
   ]
  },
  {
   "cell_type": "code",
   "execution_count": 3,
   "metadata": {},
   "outputs": [],
   "source": [
    "import awq"
   ]
  },
  {
   "cell_type": "code",
   "execution_count": 4,
   "metadata": {},
   "outputs": [],
   "source": [
    "import tqdm\n",
    "import torch\n",
    "from torch import nn\n",
    "from transformers import AutoModelForCausalLM, AutoTokenizer\n",
    "from datasets import load_dataset\n",
    "from functools import partial\n",
    "import gc"
   ]
  },
  {
   "cell_type": "code",
   "execution_count": 5,
   "metadata": {},
   "outputs": [],
   "source": [
    "def evaluate(model, tokenizer):\n",
    "    testenc = load_dataset(\"wikitext\", \"wikitext-2-raw-v1\", split=\"test\")\n",
    "    testenc = tokenizer(\"\\n\\n\".join(testenc[\"text\"]), return_tensors=\"pt\")\n",
    "\n",
    "    testenc = testenc.input_ids.to(model.device)\n",
    "    nsamples = 40\n",
    "    model = model.eval()\n",
    "\n",
    "    nlls = []\n",
    "    for i in tqdm.tqdm(range(nsamples), desc=\"evaluating...\"):\n",
    "        batch = testenc[:, (i * 2048) : ((i + 1) * 2048)].to(model.device)\n",
    "        with torch.no_grad():\n",
    "            lm_logits = model(batch).logits\n",
    "        shift_logits = lm_logits[:, :-1, :].contiguous().float()\n",
    "        shift_labels = testenc[:, (i * 2048) : ((i + 1) * 2048)][:, 1:]\n",
    "        loss_fct = nn.CrossEntropyLoss()\n",
    "        loss = loss_fct(\n",
    "            shift_logits.view(-1, shift_logits.size(-1)), shift_labels.view(-1)\n",
    "        )\n",
    "        neg_log_likelihood = loss.float() * 2048\n",
    "        nlls.append(neg_log_likelihood)\n",
    "\n",
    "    return torch.exp(torch.stack(nlls).sum() / (nsamples * 2048))"
   ]
  },
  {
   "cell_type": "code",
   "execution_count": 6,
   "metadata": {},
   "outputs": [],
   "source": [
    "def get_model_size(model: nn.Module, data_width=16, group_size=-1):\n",
    "\n",
    "    if group_size != -1:\n",
    "        data_width += (16 + 4) / group_size\n",
    "\n",
    "    num_elements = 0\n",
    "    for param in model.parameters():\n",
    "        num_elements += param.numel()\n",
    "    return num_elements * data_width\n",
    "\n",
    "\n",
    "Byte = 8\n",
    "KiB = 1024 * Byte\n",
    "MiB = 1024 * KiB\n",
    "GiB = 1024 * MiB"
   ]
  },
  {
   "cell_type": "code",
   "execution_count": 7,
   "metadata": {},
   "outputs": [
    {
     "name": "stderr",
     "output_type": "stream",
     "text": [
      "/home/sizheli/.local/lib/python3.10/site-packages/huggingface_hub/file_download.py:797: FutureWarning: `resume_download` is deprecated and will be removed in version 1.0.0. Downloads always resume when possible. If you want to force a new download, use `force_download=True`.\n",
      "  warnings.warn(\n"
     ]
    }
   ],
   "source": [
    "model_path = \"facebook/opt-1.3b\"\n",
    "\n",
    "# model_path = \"facebook/opt-13b\"\n",
    "\n",
    "tokenizer = AutoTokenizer.from_pretrained(model_path, use_fast=False)"
   ]
  },
  {
   "cell_type": "code",
   "execution_count": 8,
   "metadata": {},
   "outputs": [
    {
     "name": "stderr",
     "output_type": "stream",
     "text": [
      "/home/sizheli/.local/lib/python3.10/site-packages/huggingface_hub/file_download.py:797: FutureWarning: `resume_download` is deprecated and will be removed in version 1.0.0. Downloads always resume when possible. If you want to force a new download, use `force_download=True`.\n",
      "  warnings.warn(\n"
     ]
    }
   ],
   "source": [
    "original_model_n_bits = 32\n",
    "torch_dtype = torch.float16 if original_model_n_bits == 16 else torch.float32\n",
    "\n",
    "model = AutoModelForCausalLM.from_pretrained(\n",
    "    model_path, torch_dtype=torch_dtype, device_map=\"auto\"\n",
    ")"
   ]
  },
  {
   "cell_type": "code",
   "execution_count": 9,
   "metadata": {},
   "outputs": [
    {
     "name": "stderr",
     "output_type": "stream",
     "text": [
      "evaluating...: 100%|██████████| 40/40 [00:20<00:00,  1.93it/s]\n"
     ]
    },
    {
     "name": "stdout",
     "output_type": "stream",
     "text": [
      "\n",
      "model perplexity: 14.47\n",
      "model size: 5043.73 MiB\n"
     ]
    }
   ],
   "source": [
    "# Evaluate the model\n",
    "model_perplexity = evaluate(model, tokenizer)\n",
    "model_size = get_model_size(model, data_width=original_model_n_bits, group_size=128)\n",
    "\n",
    "### Print the results\n",
    "print(f\"\\nmodel perplexity: {model_perplexity:.2f}\")\n",
    "print(f\"model size: {model_size/MiB:.2f} MiB\")"
   ]
  },
  {
   "cell_type": "code",
   "execution_count": 16,
   "metadata": {},
   "outputs": [
    {
     "name": "stderr",
     "output_type": "stream",
     "text": [
      "Repo card metadata block was not found. Setting CardData to empty.\n"
     ]
    },
    {
     "name": "stdout",
     "output_type": "stream",
     "text": [
      " * Split into 60 blocks\n"
     ]
    },
    {
     "name": "stderr",
     "output_type": "stream",
     "text": [
      "Running AWQ...:   0%|          | 0/24 [00:00<?, ?it/s]"
     ]
    },
    {
     "name": "stdout",
     "output_type": "stream",
     "text": [
      "dict_keys(['self_attn.q_proj', 'self_attn.k_proj', 'self_attn.v_proj', 'self_attn.out_proj', 'fc1', 'fc2'])\n",
      "dict_keys(['self_attn.q_proj', 'self_attn.k_proj', 'self_attn.v_proj', 'self_attn.out_proj', 'fc1', 'fc2'])\n",
      "----------\n",
      "ratio: 0.0, loss: 0.00427306117489934\n",
      "ratio: 0.05, loss: 0.004263454116880894\n",
      "ratio: 0.1, loss: 0.004256470128893852\n",
      "ratio: 0.15, loss: 0.004252363927662373\n",
      "ratio: 0.2, loss: 0.0042498731054365635\n",
      "ratio: 0.25, loss: 0.004248196259140968\n",
      "ratio: 0.3, loss: 0.004247210454195738\n",
      "ratio: 0.35, loss: 0.004246462602168322\n",
      "ratio: 0.4, loss: 0.004246068187057972\n",
      "ratio: 0.45, loss: 0.0042457422241568565\n",
      "ratio: 0.5, loss: 0.004245585296303034\n",
      "ratio: 0.55, loss: 0.004245635122060776\n",
      "ratio: 0.6, loss: 0.004245671909302473\n",
      "ratio: 0.65, loss: 0.00424604257568717\n",
      "ratio: 0.7, loss: 0.004246539901942015\n",
      "ratio: 0.75, loss: 0.0042471387423574924\n",
      "ratio: 0.8, loss: 0.004248109646141529\n",
      "ratio: 0.85, loss: 0.004249550402164459\n",
      "ratio: 0.9, loss: 0.004252143204212189\n",
      "ratio: 0.95, loss: 0.004255569074302912\n",
      "ratio: 0.0, loss: 7.922185614006594e-05\n",
      "ratio: 0.05, loss: 7.871544221416116e-05\n",
      "ratio: 0.1, loss: 7.830825779819861e-05\n",
      "ratio: 0.15, loss: 7.857913442421705e-05\n",
      "ratio: 0.2, loss: 7.829465175746009e-05\n",
      "ratio: 0.25, loss: 7.846792868804187e-05\n",
      "ratio: 0.3, loss: 7.839893078198656e-05\n",
      "ratio: 0.35, loss: 7.83188224886544e-05\n",
      "ratio: 0.4, loss: 7.831217226339504e-05\n",
      "ratio: 0.45, loss: 7.835264113964513e-05\n",
      "ratio: 0.5, loss: 7.866197120165452e-05\n",
      "ratio: 0.55, loss: 7.876628660596907e-05\n",
      "ratio: 0.6, loss: 7.904478843556717e-05\n",
      "ratio: 0.65, loss: 7.959627691889182e-05\n",
      "ratio: 0.7, loss: 8.054660429479554e-05\n",
      "ratio: 0.75, loss: 8.271338447229937e-05\n",
      "ratio: 0.8, loss: 8.411113230977207e-05\n",
      "ratio: 0.85, loss: 8.88421491254121e-05\n",
      "ratio: 0.9, loss: 9.271904855268076e-05\n",
      "ratio: 0.95, loss: 0.00010256953828502446\n"
     ]
    },
    {
     "name": "stderr",
     "output_type": "stream",
     "text": [
      "Running AWQ...:   4%|▍         | 1/24 [00:06<02:39,  6.95s/it]"
     ]
    },
    {
     "name": "stdout",
     "output_type": "stream",
     "text": [
      "dict_keys(['self_attn.q_proj', 'self_attn.k_proj', 'self_attn.v_proj', 'self_attn.out_proj', 'fc1', 'fc2'])\n",
      "dict_keys(['self_attn.q_proj', 'self_attn.k_proj', 'self_attn.v_proj', 'self_attn.out_proj', 'fc1', 'fc2'])\n",
      "----------\n",
      "ratio: 0.0, loss: 0.009539443999528885\n",
      "ratio: 0.05, loss: 0.00952586904168129\n",
      "ratio: 0.1, loss: 0.009515193291008472\n",
      "ratio: 0.15, loss: 0.009507773444056511\n",
      "ratio: 0.2, loss: 0.009505671449005604\n",
      "ratio: 0.25, loss: 0.009502706117928028\n",
      "ratio: 0.3, loss: 0.009502350352704525\n",
      "ratio: 0.35, loss: 0.009501579217612743\n",
      "ratio: 0.4, loss: 0.009501717984676361\n",
      "ratio: 0.45, loss: 0.009500639513134956\n",
      "ratio: 0.5, loss: 0.00950048677623272\n",
      "ratio: 0.55, loss: 0.009500422514975071\n",
      "ratio: 0.6, loss: 0.009501753374934196\n",
      "ratio: 0.65, loss: 0.009501888416707516\n",
      "ratio: 0.7, loss: 0.009503398090600967\n",
      "ratio: 0.75, loss: 0.009504575282335281\n",
      "ratio: 0.8, loss: 0.009507945738732815\n",
      "ratio: 0.85, loss: 0.009513082914054394\n",
      "ratio: 0.9, loss: 0.009520062245428562\n",
      "ratio: 0.95, loss: 0.009532999247312546\n",
      "ratio: 0.0, loss: 3.4429945117153693e-06\n",
      "ratio: 0.05, loss: 3.4097035950253485e-06\n",
      "ratio: 0.1, loss: 3.395054818611243e-06\n",
      "ratio: 0.15, loss: 3.392825874470873e-06\n",
      "ratio: 0.2, loss: 3.3928190532606095e-06\n",
      "ratio: 0.25, loss: 3.4005570341832936e-06\n",
      "ratio: 0.3, loss: 3.422449708523345e-06\n",
      "ratio: 0.35, loss: 3.4634254006959964e-06\n",
      "ratio: 0.4, loss: 3.518246330713737e-06\n",
      "ratio: 0.45, loss: 3.610299472711631e-06\n",
      "ratio: 0.5, loss: 3.7746688121842453e-06\n",
      "ratio: 0.55, loss: 4.05345326726092e-06\n",
      "ratio: 0.6, loss: 4.4805592551711015e-06\n",
      "ratio: 0.65, loss: 5.198177404963644e-06\n",
      "ratio: 0.7, loss: 6.327584287646459e-06\n",
      "ratio: 0.75, loss: 8.226075806305744e-06\n",
      "ratio: 0.8, loss: 1.129806878452655e-05\n",
      "ratio: 0.85, loss: 1.6015430446714163e-05\n",
      "ratio: 0.9, loss: 2.3461499949917197e-05\n",
      "ratio: 0.95, loss: 3.3515654649818316e-05\n"
     ]
    },
    {
     "name": "stderr",
     "output_type": "stream",
     "text": [
      "Running AWQ...:   8%|▊         | 2/24 [00:14<02:42,  7.38s/it]"
     ]
    },
    {
     "name": "stdout",
     "output_type": "stream",
     "text": [
      "dict_keys(['self_attn.q_proj', 'self_attn.k_proj', 'self_attn.v_proj', 'self_attn.out_proj', 'fc1', 'fc2'])\n",
      "dict_keys(['self_attn.q_proj', 'self_attn.k_proj', 'self_attn.v_proj', 'self_attn.out_proj', 'fc1', 'fc2'])\n",
      "----------\n",
      "ratio: 0.0, loss: 0.014652990736067295\n",
      "ratio: 0.05, loss: 0.014642191119492054\n",
      "ratio: 0.1, loss: 0.014632843434810638\n",
      "ratio: 0.15, loss: 0.014625567942857742\n",
      "ratio: 0.2, loss: 0.014622591435909271\n",
      "ratio: 0.25, loss: 0.01461766753345728\n",
      "ratio: 0.3, loss: 0.014620897360146046\n",
      "ratio: 0.35, loss: 0.014618327841162682\n",
      "ratio: 0.4, loss: 0.014618946239352226\n",
      "ratio: 0.45, loss: 0.014619222842156887\n",
      "ratio: 0.5, loss: 0.01461872924119234\n",
      "ratio: 0.55, loss: 0.014617585577070713\n",
      "ratio: 0.6, loss: 0.014619668014347553\n",
      "ratio: 0.65, loss: 0.014619214460253716\n",
      "ratio: 0.7, loss: 0.014620248228311539\n",
      "ratio: 0.75, loss: 0.0146217355504632\n",
      "ratio: 0.8, loss: 0.014621896669268608\n",
      "ratio: 0.85, loss: 0.014626724645495415\n",
      "ratio: 0.9, loss: 0.014631900005042553\n",
      "ratio: 0.95, loss: 0.014641563408076763\n",
      "ratio: 0.0, loss: 4.066319434059551e-06\n",
      "ratio: 0.05, loss: 4.037525741296122e-06\n",
      "ratio: 0.1, loss: 4.0172240005631465e-06\n",
      "ratio: 0.15, loss: 4.007275492767803e-06\n",
      "ratio: 0.2, loss: 4.0117329263011925e-06\n",
      "ratio: 0.25, loss: 4.020810138172237e-06\n",
      "ratio: 0.3, loss: 4.034608082292834e-06\n",
      "ratio: 0.35, loss: 4.061161234858446e-06\n",
      "ratio: 0.4, loss: 4.107580934942234e-06\n",
      "ratio: 0.45, loss: 4.182061275059823e-06\n",
      "ratio: 0.5, loss: 4.306102255213773e-06\n",
      "ratio: 0.55, loss: 4.515019099926576e-06\n",
      "ratio: 0.6, loss: 4.848373009735951e-06\n",
      "ratio: 0.65, loss: 5.3694275266025215e-06\n",
      "ratio: 0.7, loss: 6.239557023945963e-06\n",
      "ratio: 0.75, loss: 7.650831321370788e-06\n",
      "ratio: 0.8, loss: 9.906794730341062e-06\n",
      "ratio: 0.85, loss: 1.3536570804717485e-05\n",
      "ratio: 0.9, loss: 1.9053548385272734e-05\n",
      "ratio: 0.95, loss: 2.7308340577292256e-05\n"
     ]
    },
    {
     "name": "stderr",
     "output_type": "stream",
     "text": [
      "Running AWQ...:  12%|█▎        | 3/24 [00:23<02:47,  7.98s/it]"
     ]
    },
    {
     "name": "stdout",
     "output_type": "stream",
     "text": [
      "dict_keys(['self_attn.q_proj', 'self_attn.k_proj', 'self_attn.v_proj', 'self_attn.out_proj', 'fc1', 'fc2'])\n",
      "dict_keys(['self_attn.q_proj', 'self_attn.k_proj', 'self_attn.v_proj', 'self_attn.out_proj', 'fc1', 'fc2'])\n",
      "----------\n",
      "ratio: 0.0, loss: 0.01361881010234356\n",
      "ratio: 0.05, loss: 0.013607820495963097\n",
      "ratio: 0.1, loss: 0.013600076548755169\n",
      "ratio: 0.15, loss: 0.013592327944934368\n",
      "ratio: 0.2, loss: 0.0135918278247118\n",
      "ratio: 0.25, loss: 0.013588282279670238\n",
      "ratio: 0.3, loss: 0.013587272725999355\n",
      "ratio: 0.35, loss: 0.01358592789620161\n",
      "ratio: 0.4, loss: 0.013586241751909256\n",
      "ratio: 0.45, loss: 0.013586432673037052\n",
      "ratio: 0.5, loss: 0.013586614280939102\n",
      "ratio: 0.55, loss: 0.013586084358394146\n",
      "ratio: 0.6, loss: 0.013586231507360935\n",
      "ratio: 0.65, loss: 0.013585977256298065\n",
      "ratio: 0.7, loss: 0.01358698308467865\n",
      "ratio: 0.75, loss: 0.013587454333901405\n",
      "ratio: 0.8, loss: 0.013589572161436081\n",
      "ratio: 0.85, loss: 0.013590722344815731\n",
      "ratio: 0.9, loss: 0.013592743314802647\n",
      "ratio: 0.95, loss: 0.013598919846117496\n",
      "ratio: 0.0, loss: 3.7542840800597332e-06\n",
      "ratio: 0.05, loss: 3.7335942124627763e-06\n",
      "ratio: 0.1, loss: 3.7241136396914953e-06\n",
      "ratio: 0.15, loss: 3.7217407680145698e-06\n",
      "ratio: 0.2, loss: 3.721400844369782e-06\n",
      "ratio: 0.25, loss: 3.7274562600941863e-06\n",
      "ratio: 0.3, loss: 3.7399199754872825e-06\n",
      "ratio: 0.35, loss: 3.757822469196981e-06\n",
      "ratio: 0.4, loss: 3.7874510780966375e-06\n",
      "ratio: 0.45, loss: 3.834723429463338e-06\n",
      "ratio: 0.5, loss: 3.907515747414436e-06\n",
      "ratio: 0.55, loss: 4.0287077354150824e-06\n",
      "ratio: 0.6, loss: 4.218421508994652e-06\n",
      "ratio: 0.65, loss: 4.527975306700682e-06\n",
      "ratio: 0.7, loss: 5.041344593337271e-06\n",
      "ratio: 0.75, loss: 5.884669462830061e-06\n",
      "ratio: 0.8, loss: 7.296144303836627e-06\n",
      "ratio: 0.85, loss: 9.61552268563537e-06\n",
      "ratio: 0.9, loss: 1.333564523520181e-05\n",
      "ratio: 0.95, loss: 1.8753502445179038e-05\n"
     ]
    },
    {
     "name": "stderr",
     "output_type": "stream",
     "text": [
      "Running AWQ...:  17%|█▋        | 4/24 [00:30<02:35,  7.77s/it]"
     ]
    },
    {
     "name": "stdout",
     "output_type": "stream",
     "text": [
      "dict_keys(['self_attn.q_proj', 'self_attn.k_proj', 'self_attn.v_proj', 'self_attn.out_proj', 'fc1', 'fc2'])\n",
      "dict_keys(['self_attn.q_proj', 'self_attn.k_proj', 'self_attn.v_proj', 'self_attn.out_proj', 'fc1', 'fc2'])\n",
      "----------\n",
      "ratio: 0.0, loss: 0.010516151785850525\n",
      "ratio: 0.05, loss: 0.010507465340197086\n",
      "ratio: 0.1, loss: 0.010499853640794754\n",
      "ratio: 0.15, loss: 0.010496027767658234\n",
      "ratio: 0.2, loss: 0.010492024943232536\n",
      "ratio: 0.25, loss: 0.010491888038814068\n",
      "ratio: 0.3, loss: 0.010489150881767273\n",
      "ratio: 0.35, loss: 0.010489038191735744\n",
      "ratio: 0.4, loss: 0.01048866007477045\n",
      "ratio: 0.45, loss: 0.010488361120223999\n",
      "ratio: 0.5, loss: 0.010488242842257023\n",
      "ratio: 0.55, loss: 0.01048858743160963\n",
      "ratio: 0.6, loss: 0.010488533414900303\n",
      "ratio: 0.65, loss: 0.010488837957382202\n",
      "ratio: 0.7, loss: 0.010489342734217644\n",
      "ratio: 0.75, loss: 0.010489837266504765\n",
      "ratio: 0.8, loss: 0.010491437278687954\n",
      "ratio: 0.85, loss: 0.010492819361388683\n",
      "ratio: 0.9, loss: 0.010495488531887531\n",
      "ratio: 0.95, loss: 0.010499672964215279\n",
      "ratio: 0.0, loss: 3.3598985282878857e-06\n",
      "ratio: 0.05, loss: 3.3350711419188883e-06\n",
      "ratio: 0.1, loss: 3.32142644765554e-06\n",
      "ratio: 0.15, loss: 3.315743470011512e-06\n",
      "ratio: 0.2, loss: 3.316379206808051e-06\n",
      "ratio: 0.25, loss: 3.3225953757209936e-06\n",
      "ratio: 0.3, loss: 3.3362593967467546e-06\n",
      "ratio: 0.35, loss: 3.3581025036255596e-06\n",
      "ratio: 0.4, loss: 3.3923799946933286e-06\n",
      "ratio: 0.45, loss: 3.4444371976860566e-06\n",
      "ratio: 0.5, loss: 3.523491841406212e-06\n",
      "ratio: 0.55, loss: 3.6446622289076913e-06\n",
      "ratio: 0.6, loss: 3.837287295027636e-06\n",
      "ratio: 0.65, loss: 4.140935743635055e-06\n",
      "ratio: 0.7, loss: 4.627614998753415e-06\n",
      "ratio: 0.75, loss: 5.4250253924692515e-06\n",
      "ratio: 0.8, loss: 6.729438609909266e-06\n",
      "ratio: 0.85, loss: 8.869913472153712e-06\n",
      "ratio: 0.9, loss: 1.2312581020523794e-05\n",
      "ratio: 0.95, loss: 1.764102853485383e-05\n"
     ]
    },
    {
     "name": "stderr",
     "output_type": "stream",
     "text": [
      "Running AWQ...:  21%|██        | 5/24 [00:39<02:33,  8.08s/it]"
     ]
    },
    {
     "name": "stdout",
     "output_type": "stream",
     "text": [
      "dict_keys(['self_attn.q_proj', 'self_attn.k_proj', 'self_attn.v_proj', 'self_attn.out_proj', 'fc1', 'fc2'])\n",
      "dict_keys(['self_attn.q_proj', 'self_attn.k_proj', 'self_attn.v_proj', 'self_attn.out_proj', 'fc1', 'fc2'])\n",
      "----------\n",
      "ratio: 0.0, loss: 0.008515790104866028\n",
      "ratio: 0.05, loss: 0.00850585661828518\n",
      "ratio: 0.1, loss: 0.008499841205775738\n",
      "ratio: 0.15, loss: 0.008494972251355648\n",
      "ratio: 0.2, loss: 0.008492840453982353\n",
      "ratio: 0.25, loss: 0.008491840213537216\n",
      "ratio: 0.3, loss: 0.008491049520671368\n",
      "ratio: 0.35, loss: 0.008490134961903095\n",
      "ratio: 0.4, loss: 0.0084895770996809\n",
      "ratio: 0.45, loss: 0.008489486761391163\n",
      "ratio: 0.5, loss: 0.008489119820296764\n",
      "ratio: 0.55, loss: 0.008489210158586502\n",
      "ratio: 0.6, loss: 0.008489369414746761\n",
      "ratio: 0.65, loss: 0.008489575237035751\n",
      "ratio: 0.7, loss: 0.00849023275077343\n",
      "ratio: 0.75, loss: 0.008490930311381817\n",
      "ratio: 0.8, loss: 0.00849192962050438\n",
      "ratio: 0.85, loss: 0.008493592962622643\n",
      "ratio: 0.9, loss: 0.008495701476931572\n",
      "ratio: 0.95, loss: 0.008499810472130775\n",
      "ratio: 0.0, loss: 5.1665501814568415e-06\n",
      "ratio: 0.05, loss: 5.139356744621182e-06\n",
      "ratio: 0.1, loss: 5.126394626131514e-06\n",
      "ratio: 0.15, loss: 5.1195761443523224e-06\n",
      "ratio: 0.2, loss: 5.1201645874243695e-06\n",
      "ratio: 0.25, loss: 5.125277766637737e-06\n",
      "ratio: 0.3, loss: 5.1380602599238046e-06\n",
      "ratio: 0.35, loss: 5.158063686394598e-06\n",
      "ratio: 0.4, loss: 5.187899205338908e-06\n",
      "ratio: 0.45, loss: 5.233375759416958e-06\n",
      "ratio: 0.5, loss: 5.301189958117902e-06\n",
      "ratio: 0.55, loss: 5.403465820563724e-06\n",
      "ratio: 0.6, loss: 5.558770226343768e-06\n",
      "ratio: 0.65, loss: 5.8023106248583645e-06\n",
      "ratio: 0.7, loss: 6.181157004903071e-06\n",
      "ratio: 0.75, loss: 6.78784454066772e-06\n",
      "ratio: 0.8, loss: 7.758789251965936e-06\n",
      "ratio: 0.85, loss: 9.340968063042965e-06\n",
      "ratio: 0.9, loss: 1.182185224024579e-05\n",
      "ratio: 0.95, loss: 1.5639767298125662e-05\n"
     ]
    },
    {
     "name": "stderr",
     "output_type": "stream",
     "text": [
      "Running AWQ...:  25%|██▌       | 6/24 [00:47<02:28,  8.25s/it]"
     ]
    },
    {
     "name": "stdout",
     "output_type": "stream",
     "text": [
      "dict_keys(['self_attn.q_proj', 'self_attn.k_proj', 'self_attn.v_proj', 'self_attn.out_proj', 'fc1', 'fc2'])\n",
      "dict_keys(['self_attn.q_proj', 'self_attn.k_proj', 'self_attn.v_proj', 'self_attn.out_proj', 'fc1', 'fc2'])\n",
      "----------\n",
      "ratio: 0.0, loss: 0.009074023924767971\n",
      "ratio: 0.05, loss: 0.009063711389899254\n",
      "ratio: 0.1, loss: 0.00905846431851387\n",
      "ratio: 0.15, loss: 0.00905437022447586\n",
      "ratio: 0.2, loss: 0.009052379988133907\n",
      "ratio: 0.25, loss: 0.009050266817212105\n",
      "ratio: 0.3, loss: 0.009049632586538792\n",
      "ratio: 0.35, loss: 0.009049005806446075\n",
      "ratio: 0.4, loss: 0.009048647247254848\n",
      "ratio: 0.45, loss: 0.009048274718225002\n",
      "ratio: 0.5, loss: 0.009047935716807842\n",
      "ratio: 0.55, loss: 0.00904820766299963\n",
      "ratio: 0.6, loss: 0.00904824398458004\n",
      "ratio: 0.65, loss: 0.009048684500157833\n",
      "ratio: 0.7, loss: 0.009048941545188427\n",
      "ratio: 0.75, loss: 0.009049803949892521\n",
      "ratio: 0.8, loss: 0.009050886146724224\n",
      "ratio: 0.85, loss: 0.009052267298102379\n",
      "ratio: 0.9, loss: 0.009054504334926605\n",
      "ratio: 0.95, loss: 0.009058034047484398\n",
      "ratio: 0.0, loss: 6.572458914888557e-06\n",
      "ratio: 0.05, loss: 6.538054549309891e-06\n",
      "ratio: 0.1, loss: 6.517617748613702e-06\n",
      "ratio: 0.15, loss: 6.507129000965506e-06\n",
      "ratio: 0.2, loss: 6.505663350253599e-06\n",
      "ratio: 0.25, loss: 6.512129857583204e-06\n",
      "ratio: 0.3, loss: 6.525171102111926e-06\n",
      "ratio: 0.35, loss: 6.549055797222536e-06\n",
      "ratio: 0.4, loss: 6.584513812413206e-06\n",
      "ratio: 0.45, loss: 6.637028945988277e-06\n",
      "ratio: 0.5, loss: 6.715581093885703e-06\n",
      "ratio: 0.55, loss: 6.827622200944461e-06\n",
      "ratio: 0.6, loss: 6.996582669671625e-06\n",
      "ratio: 0.65, loss: 7.247715984703973e-06\n",
      "ratio: 0.7, loss: 7.630670552316587e-06\n",
      "ratio: 0.75, loss: 8.224608791351784e-06\n",
      "ratio: 0.8, loss: 9.146535376203246e-06\n",
      "ratio: 0.85, loss: 1.0597322216199245e-05\n",
      "ratio: 0.9, loss: 1.2858650734415278e-05\n",
      "ratio: 0.95, loss: 1.6338182831532322e-05\n"
     ]
    },
    {
     "name": "stderr",
     "output_type": "stream",
     "text": [
      "Running AWQ...:  29%|██▉       | 7/24 [00:56<02:19,  8.23s/it]"
     ]
    },
    {
     "name": "stdout",
     "output_type": "stream",
     "text": [
      "dict_keys(['self_attn.q_proj', 'self_attn.k_proj', 'self_attn.v_proj', 'self_attn.out_proj', 'fc1', 'fc2'])\n",
      "dict_keys(['self_attn.q_proj', 'self_attn.k_proj', 'self_attn.v_proj', 'self_attn.out_proj', 'fc1', 'fc2'])\n",
      "----------\n",
      "ratio: 0.0, loss: 0.009939935058355331\n",
      "ratio: 0.05, loss: 0.00993150845170021\n",
      "ratio: 0.1, loss: 0.009926311671733856\n",
      "ratio: 0.15, loss: 0.009923464618623257\n",
      "ratio: 0.2, loss: 0.009920240379869938\n",
      "ratio: 0.25, loss: 0.009918536990880966\n",
      "ratio: 0.3, loss: 0.009917638264596462\n",
      "ratio: 0.35, loss: 0.009916557930409908\n",
      "ratio: 0.4, loss: 0.009916451759636402\n",
      "ratio: 0.45, loss: 0.009915970265865326\n",
      "ratio: 0.5, loss: 0.00991566851735115\n",
      "ratio: 0.55, loss: 0.009915735572576523\n",
      "ratio: 0.6, loss: 0.009916026145219803\n",
      "ratio: 0.65, loss: 0.009916340000927448\n",
      "ratio: 0.7, loss: 0.00991677027195692\n",
      "ratio: 0.75, loss: 0.009917688556015491\n",
      "ratio: 0.8, loss: 0.00991878006607294\n",
      "ratio: 0.85, loss: 0.009920397773385048\n",
      "ratio: 0.9, loss: 0.009922701865434647\n",
      "ratio: 0.95, loss: 0.009926386177539825\n",
      "ratio: 0.0, loss: 5.669516667694552e-06\n",
      "ratio: 0.05, loss: 5.613482244370971e-06\n",
      "ratio: 0.1, loss: 5.581507593888091e-06\n",
      "ratio: 0.15, loss: 5.563319518842036e-06\n",
      "ratio: 0.2, loss: 5.557878466788679e-06\n",
      "ratio: 0.25, loss: 5.563902504945872e-06\n",
      "ratio: 0.3, loss: 5.580377091973787e-06\n",
      "ratio: 0.35, loss: 5.610417701973347e-06\n",
      "ratio: 0.4, loss: 5.656787834595889e-06\n",
      "ratio: 0.45, loss: 5.725812115997542e-06\n",
      "ratio: 0.5, loss: 5.825504558742978e-06\n",
      "ratio: 0.55, loss: 5.973691713734297e-06\n",
      "ratio: 0.6, loss: 6.1892842495581135e-06\n",
      "ratio: 0.65, loss: 6.511999799840851e-06\n",
      "ratio: 0.7, loss: 6.998205662966939e-06\n",
      "ratio: 0.75, loss: 7.737653504591435e-06\n",
      "ratio: 0.8, loss: 8.883772352419328e-06\n",
      "ratio: 0.85, loss: 1.066442382580135e-05\n",
      "ratio: 0.9, loss: 1.3413768101599999e-05\n",
      "ratio: 0.95, loss: 1.764918488333933e-05\n"
     ]
    },
    {
     "name": "stderr",
     "output_type": "stream",
     "text": [
      "Running AWQ...:  33%|███▎      | 8/24 [01:04<02:13,  8.37s/it]"
     ]
    },
    {
     "name": "stdout",
     "output_type": "stream",
     "text": [
      "dict_keys(['self_attn.q_proj', 'self_attn.k_proj', 'self_attn.v_proj', 'self_attn.out_proj', 'fc1', 'fc2'])\n",
      "dict_keys(['self_attn.q_proj', 'self_attn.k_proj', 'self_attn.v_proj', 'self_attn.out_proj', 'fc1', 'fc2'])\n",
      "----------\n",
      "ratio: 0.0, loss: 0.010508631356060505\n",
      "ratio: 0.05, loss: 0.010501382872462273\n",
      "ratio: 0.1, loss: 0.010495446622371674\n",
      "ratio: 0.15, loss: 0.010492194443941116\n",
      "ratio: 0.2, loss: 0.01048994529992342\n",
      "ratio: 0.25, loss: 0.01048749964684248\n",
      "ratio: 0.3, loss: 0.010486633516848087\n",
      "ratio: 0.35, loss: 0.010485555045306683\n",
      "ratio: 0.4, loss: 0.010485399514436722\n",
      "ratio: 0.45, loss: 0.010484931990504265\n",
      "ratio: 0.5, loss: 0.010484803467988968\n",
      "ratio: 0.55, loss: 0.010484615340828896\n",
      "ratio: 0.6, loss: 0.010484886355698109\n",
      "ratio: 0.65, loss: 0.010485146194696426\n",
      "ratio: 0.7, loss: 0.010485935024917126\n",
      "ratio: 0.75, loss: 0.01048693060874939\n",
      "ratio: 0.8, loss: 0.010488131083548069\n",
      "ratio: 0.85, loss: 0.010490022599697113\n",
      "ratio: 0.9, loss: 0.010492988862097263\n",
      "ratio: 0.95, loss: 0.010497155599296093\n",
      "ratio: 0.0, loss: 8.936087397160009e-06\n",
      "ratio: 0.05, loss: 8.846794116834644e-06\n",
      "ratio: 0.1, loss: 8.789161256572697e-06\n",
      "ratio: 0.15, loss: 8.7576654550503e-06\n",
      "ratio: 0.2, loss: 8.744759725232143e-06\n",
      "ratio: 0.25, loss: 8.746212188270874e-06\n",
      "ratio: 0.3, loss: 8.76342073752312e-06\n",
      "ratio: 0.35, loss: 8.799594979791436e-06\n",
      "ratio: 0.4, loss: 8.857071406964678e-06\n",
      "ratio: 0.45, loss: 8.946061825554352e-06\n",
      "ratio: 0.5, loss: 9.078594302991405e-06\n",
      "ratio: 0.55, loss: 9.278074685425963e-06\n",
      "ratio: 0.6, loss: 9.578708159097005e-06\n",
      "ratio: 0.65, loss: 1.004212572297547e-05\n",
      "ratio: 0.7, loss: 1.075599266187055e-05\n",
      "ratio: 0.75, loss: 1.1900834579137154e-05\n",
      "ratio: 0.8, loss: 1.3751383448834531e-05\n",
      "ratio: 0.85, loss: 1.6737132682465017e-05\n",
      "ratio: 0.9, loss: 2.1468018530867994e-05\n",
      "ratio: 0.95, loss: 2.8812521122745238e-05\n"
     ]
    },
    {
     "name": "stderr",
     "output_type": "stream",
     "text": [
      "Running AWQ...:  38%|███▊      | 9/24 [01:13<02:05,  8.34s/it]"
     ]
    },
    {
     "name": "stdout",
     "output_type": "stream",
     "text": [
      "dict_keys(['self_attn.q_proj', 'self_attn.k_proj', 'self_attn.v_proj', 'self_attn.out_proj', 'fc1', 'fc2'])\n",
      "dict_keys(['self_attn.q_proj', 'self_attn.k_proj', 'self_attn.v_proj', 'self_attn.out_proj', 'fc1', 'fc2'])\n",
      "----------\n",
      "ratio: 0.0, loss: 0.010445923544466496\n",
      "ratio: 0.05, loss: 0.010437730699777603\n",
      "ratio: 0.1, loss: 0.010432631708681583\n",
      "ratio: 0.15, loss: 0.0104296263307333\n",
      "ratio: 0.2, loss: 0.010426882654428482\n",
      "ratio: 0.25, loss: 0.010424953885376453\n",
      "ratio: 0.3, loss: 0.010424028150737286\n",
      "ratio: 0.35, loss: 0.010423323139548302\n",
      "ratio: 0.4, loss: 0.01042274571955204\n",
      "ratio: 0.45, loss: 0.010422726161777973\n",
      "ratio: 0.5, loss: 0.01042228378355503\n",
      "ratio: 0.55, loss: 0.010422253981232643\n",
      "ratio: 0.6, loss: 0.010422606952488422\n",
      "ratio: 0.65, loss: 0.010423162020742893\n",
      "ratio: 0.7, loss: 0.010423710569739342\n",
      "ratio: 0.75, loss: 0.010424463078379631\n",
      "ratio: 0.8, loss: 0.010425860062241554\n",
      "ratio: 0.85, loss: 0.010427786037325859\n",
      "ratio: 0.9, loss: 0.010430416092276573\n",
      "ratio: 0.95, loss: 0.01043415442109108\n",
      "ratio: 0.0, loss: 1.3039315490459558e-05\n",
      "ratio: 0.05, loss: 1.2906500160170253e-05\n",
      "ratio: 0.1, loss: 1.2832563697884325e-05\n",
      "ratio: 0.15, loss: 1.278441686736187e-05\n",
      "ratio: 0.2, loss: 1.2763248378178105e-05\n",
      "ratio: 0.25, loss: 1.275978320336435e-05\n",
      "ratio: 0.3, loss: 1.2779304597643204e-05\n",
      "ratio: 0.35, loss: 1.2819816220144276e-05\n",
      "ratio: 0.4, loss: 1.2889478057331871e-05\n",
      "ratio: 0.45, loss: 1.299164432566613e-05\n",
      "ratio: 0.5, loss: 1.3149788173905108e-05\n",
      "ratio: 0.55, loss: 1.338204583589686e-05\n",
      "ratio: 0.6, loss: 1.3728602425544523e-05\n",
      "ratio: 0.65, loss: 1.4251910215534735e-05\n",
      "ratio: 0.7, loss: 1.5061717931530438e-05\n",
      "ratio: 0.75, loss: 1.6339376088581048e-05\n",
      "ratio: 0.8, loss: 1.8370306861470453e-05\n",
      "ratio: 0.85, loss: 2.168168794014491e-05\n",
      "ratio: 0.9, loss: 2.703821701288689e-05\n",
      "ratio: 0.95, loss: 3.565588122000918e-05\n"
     ]
    },
    {
     "name": "stderr",
     "output_type": "stream",
     "text": [
      "Running AWQ...:  42%|████▏     | 10/24 [01:22<01:59,  8.52s/it]"
     ]
    },
    {
     "name": "stdout",
     "output_type": "stream",
     "text": [
      "dict_keys(['self_attn.q_proj', 'self_attn.k_proj', 'self_attn.v_proj', 'self_attn.out_proj', 'fc1', 'fc2'])\n",
      "dict_keys(['self_attn.q_proj', 'self_attn.k_proj', 'self_attn.v_proj', 'self_attn.out_proj', 'fc1', 'fc2'])\n",
      "----------\n",
      "ratio: 0.0, loss: 0.010541156865656376\n",
      "ratio: 0.05, loss: 0.010535016655921936\n",
      "ratio: 0.1, loss: 0.010530130937695503\n",
      "ratio: 0.15, loss: 0.010527344420552254\n",
      "ratio: 0.2, loss: 0.010524490848183632\n",
      "ratio: 0.25, loss: 0.010523764416575432\n",
      "ratio: 0.3, loss: 0.010522604919970036\n",
      "ratio: 0.35, loss: 0.010521795600652695\n",
      "ratio: 0.4, loss: 0.010521509684622288\n",
      "ratio: 0.45, loss: 0.010521374642848969\n",
      "ratio: 0.5, loss: 0.010521285235881805\n",
      "ratio: 0.55, loss: 0.010521255433559418\n",
      "ratio: 0.6, loss: 0.010521446354687214\n",
      "ratio: 0.65, loss: 0.0105219054967165\n",
      "ratio: 0.7, loss: 0.010522552765905857\n",
      "ratio: 0.75, loss: 0.010523269884288311\n",
      "ratio: 0.8, loss: 0.010524557903409004\n",
      "ratio: 0.85, loss: 0.010526481084525585\n",
      "ratio: 0.9, loss: 0.010528523474931717\n",
      "ratio: 0.95, loss: 0.010531569831073284\n",
      "ratio: 0.0, loss: 1.815671203075908e-05\n",
      "ratio: 0.05, loss: 1.7951162590179592e-05\n",
      "ratio: 0.1, loss: 1.7825645045377314e-05\n",
      "ratio: 0.15, loss: 1.7747941456036642e-05\n",
      "ratio: 0.2, loss: 1.771005554473959e-05\n",
      "ratio: 0.25, loss: 1.7699952877592295e-05\n",
      "ratio: 0.3, loss: 1.7720365576678887e-05\n",
      "ratio: 0.35, loss: 1.7775610103853978e-05\n",
      "ratio: 0.4, loss: 1.786609755072277e-05\n",
      "ratio: 0.45, loss: 1.8006350728683174e-05\n",
      "ratio: 0.5, loss: 1.822199919843115e-05\n",
      "ratio: 0.55, loss: 1.853399953688495e-05\n",
      "ratio: 0.6, loss: 1.8997709048562683e-05\n",
      "ratio: 0.65, loss: 1.968932519957889e-05\n",
      "ratio: 0.7, loss: 2.0745650544995442e-05\n",
      "ratio: 0.75, loss: 2.236551881651394e-05\n",
      "ratio: 0.8, loss: 2.492625753802713e-05\n",
      "ratio: 0.85, loss: 2.902777850977145e-05\n",
      "ratio: 0.9, loss: 3.5591114283306524e-05\n",
      "ratio: 0.95, loss: 4.5902565034339204e-05\n"
     ]
    },
    {
     "name": "stderr",
     "output_type": "stream",
     "text": [
      "Running AWQ...:  46%|████▌     | 11/24 [01:30<01:49,  8.41s/it]"
     ]
    },
    {
     "name": "stdout",
     "output_type": "stream",
     "text": [
      "dict_keys(['self_attn.q_proj', 'self_attn.k_proj', 'self_attn.v_proj', 'self_attn.out_proj', 'fc1', 'fc2'])\n",
      "dict_keys(['self_attn.q_proj', 'self_attn.k_proj', 'self_attn.v_proj', 'self_attn.out_proj', 'fc1', 'fc2'])\n",
      "----------\n",
      "ratio: 0.0, loss: 0.010311237536370754\n",
      "ratio: 0.05, loss: 0.01030502188950777\n",
      "ratio: 0.1, loss: 0.0103019243106246\n",
      "ratio: 0.15, loss: 0.010299373418092728\n",
      "ratio: 0.2, loss: 0.010297825559973717\n",
      "ratio: 0.25, loss: 0.010296612977981567\n",
      "ratio: 0.3, loss: 0.010295433923602104\n",
      "ratio: 0.35, loss: 0.010294800624251366\n",
      "ratio: 0.4, loss: 0.010294465348124504\n",
      "ratio: 0.45, loss: 0.010294131003320217\n",
      "ratio: 0.5, loss: 0.01029418408870697\n",
      "ratio: 0.55, loss: 0.010293995030224323\n",
      "ratio: 0.6, loss: 0.010294252075254917\n",
      "ratio: 0.65, loss: 0.01029467023909092\n",
      "ratio: 0.7, loss: 0.010295186191797256\n",
      "ratio: 0.75, loss: 0.010296054184436798\n",
      "ratio: 0.8, loss: 0.010297233238816261\n",
      "ratio: 0.85, loss: 0.010299010202288628\n",
      "ratio: 0.9, loss: 0.010301008820533752\n",
      "ratio: 0.95, loss: 0.010303986258804798\n",
      "ratio: 0.0, loss: 1.8507829736336134e-05\n",
      "ratio: 0.05, loss: 1.8180035112891346e-05\n",
      "ratio: 0.1, loss: 1.7993535948335193e-05\n",
      "ratio: 0.15, loss: 1.787347900972236e-05\n",
      "ratio: 0.2, loss: 1.781351602403447e-05\n",
      "ratio: 0.25, loss: 1.779648482624907e-05\n",
      "ratio: 0.3, loss: 1.7818652850110084e-05\n",
      "ratio: 0.35, loss: 1.7880576706374995e-05\n",
      "ratio: 0.4, loss: 1.7992742868955247e-05\n",
      "ratio: 0.45, loss: 1.8165377696277574e-05\n",
      "ratio: 0.5, loss: 1.8431317585054785e-05\n",
      "ratio: 0.55, loss: 1.8812468624673784e-05\n",
      "ratio: 0.6, loss: 1.9389850422157906e-05\n",
      "ratio: 0.65, loss: 2.0255960407666862e-05\n",
      "ratio: 0.7, loss: 2.1577518054982647e-05\n",
      "ratio: 0.75, loss: 2.3646005502087064e-05\n",
      "ratio: 0.8, loss: 2.6926007194560952e-05\n",
      "ratio: 0.85, loss: 3.222683153580874e-05\n",
      "ratio: 0.9, loss: 4.063616506755352e-05\n",
      "ratio: 0.95, loss: 5.378249261411838e-05\n"
     ]
    },
    {
     "name": "stderr",
     "output_type": "stream",
     "text": [
      "Running AWQ...:  50%|█████     | 12/24 [01:38<01:42,  8.52s/it]"
     ]
    },
    {
     "name": "stdout",
     "output_type": "stream",
     "text": [
      "dict_keys(['self_attn.q_proj', 'self_attn.k_proj', 'self_attn.v_proj', 'self_attn.out_proj', 'fc1', 'fc2'])\n",
      "dict_keys(['self_attn.q_proj', 'self_attn.k_proj', 'self_attn.v_proj', 'self_attn.out_proj', 'fc1', 'fc2'])\n",
      "----------\n",
      "ratio: 0.0, loss: 0.009674214757978916\n",
      "ratio: 0.05, loss: 0.009670856408774853\n",
      "ratio: 0.1, loss: 0.009667651727795601\n",
      "ratio: 0.15, loss: 0.009666044265031815\n",
      "ratio: 0.2, loss: 0.009664404205977917\n",
      "ratio: 0.25, loss: 0.009663206525146961\n",
      "ratio: 0.3, loss: 0.00966224167495966\n",
      "ratio: 0.35, loss: 0.009662067517638206\n",
      "ratio: 0.4, loss: 0.00966189056634903\n",
      "ratio: 0.45, loss: 0.009661446325480938\n",
      "ratio: 0.5, loss: 0.009661777876317501\n",
      "ratio: 0.55, loss: 0.00966172106564045\n",
      "ratio: 0.6, loss: 0.009661879390478134\n",
      "ratio: 0.65, loss: 0.009662142023444176\n",
      "ratio: 0.7, loss: 0.009662688709795475\n",
      "ratio: 0.75, loss: 0.009663743898272514\n",
      "ratio: 0.8, loss: 0.00966496393084526\n",
      "ratio: 0.85, loss: 0.009666632860898972\n",
      "ratio: 0.9, loss: 0.00966867245733738\n",
      "ratio: 0.95, loss: 0.009672111831605434\n",
      "ratio: 0.0, loss: 2.3350985429715365e-05\n",
      "ratio: 0.05, loss: 2.2962565708439797e-05\n",
      "ratio: 0.1, loss: 2.2717174942954443e-05\n",
      "ratio: 0.15, loss: 2.2569558495888487e-05\n",
      "ratio: 0.2, loss: 2.2485315639642067e-05\n",
      "ratio: 0.25, loss: 2.2461599655798636e-05\n",
      "ratio: 0.3, loss: 2.248751297884155e-05\n",
      "ratio: 0.35, loss: 2.256829247926362e-05\n",
      "ratio: 0.4, loss: 2.2708265532855876e-05\n",
      "ratio: 0.45, loss: 2.293778015882708e-05\n",
      "ratio: 0.5, loss: 2.3255370251717977e-05\n",
      "ratio: 0.55, loss: 2.3741400582366623e-05\n",
      "ratio: 0.6, loss: 2.4429209588561207e-05\n",
      "ratio: 0.65, loss: 2.5464272766839713e-05\n",
      "ratio: 0.7, loss: 2.7011281417799182e-05\n",
      "ratio: 0.75, loss: 2.9389413612079807e-05\n",
      "ratio: 0.8, loss: 3.312245098641142e-05\n",
      "ratio: 0.85, loss: 3.892716267728247e-05\n",
      "ratio: 0.9, loss: 4.805528442375362e-05\n",
      "ratio: 0.95, loss: 6.216285692062229e-05\n"
     ]
    },
    {
     "name": "stderr",
     "output_type": "stream",
     "text": [
      "Running AWQ...:  54%|█████▍    | 13/24 [01:47<01:33,  8.52s/it]"
     ]
    },
    {
     "name": "stdout",
     "output_type": "stream",
     "text": [
      "dict_keys(['self_attn.q_proj', 'self_attn.k_proj', 'self_attn.v_proj', 'self_attn.out_proj', 'fc1', 'fc2'])\n",
      "dict_keys(['self_attn.q_proj', 'self_attn.k_proj', 'self_attn.v_proj', 'self_attn.out_proj', 'fc1', 'fc2'])\n",
      "----------\n",
      "ratio: 0.0, loss: 0.009752225130796432\n",
      "ratio: 0.05, loss: 0.009748426266014576\n",
      "ratio: 0.1, loss: 0.009746263734996319\n",
      "ratio: 0.15, loss: 0.009744052775204182\n",
      "ratio: 0.2, loss: 0.009742810390889645\n",
      "ratio: 0.25, loss: 0.009741677902638912\n",
      "ratio: 0.3, loss: 0.009741328656673431\n",
      "ratio: 0.35, loss: 0.009740639477968216\n",
      "ratio: 0.4, loss: 0.009740132838487625\n",
      "ratio: 0.45, loss: 0.009740123525261879\n",
      "ratio: 0.5, loss: 0.009740306064486504\n",
      "ratio: 0.55, loss: 0.009740377776324749\n",
      "ratio: 0.6, loss: 0.009740553796291351\n",
      "ratio: 0.65, loss: 0.009741109795868397\n",
      "ratio: 0.7, loss: 0.009741701185703278\n",
      "ratio: 0.75, loss: 0.009742778725922108\n",
      "ratio: 0.8, loss: 0.009743751958012581\n",
      "ratio: 0.85, loss: 0.009745660237967968\n",
      "ratio: 0.9, loss: 0.009748024865984917\n",
      "ratio: 0.95, loss: 0.009750979021191597\n",
      "ratio: 0.0, loss: 2.6790547053678893e-05\n",
      "ratio: 0.05, loss: 2.6324449208914302e-05\n",
      "ratio: 0.1, loss: 2.6005038307630457e-05\n",
      "ratio: 0.15, loss: 2.5808276404859498e-05\n",
      "ratio: 0.2, loss: 2.5693883799249306e-05\n",
      "ratio: 0.25, loss: 2.5651663236203603e-05\n",
      "ratio: 0.3, loss: 2.5683375497465022e-05\n",
      "ratio: 0.35, loss: 2.5771974833332933e-05\n",
      "ratio: 0.4, loss: 2.594430770841427e-05\n",
      "ratio: 0.45, loss: 2.6208950657746755e-05\n",
      "ratio: 0.5, loss: 2.6602869183989242e-05\n",
      "ratio: 0.55, loss: 2.7173760827281512e-05\n",
      "ratio: 0.6, loss: 2.8006139473291114e-05\n",
      "ratio: 0.65, loss: 2.9237326089059934e-05\n",
      "ratio: 0.7, loss: 3.1046616641106084e-05\n",
      "ratio: 0.75, loss: 3.3791893656598404e-05\n",
      "ratio: 0.8, loss: 3.7930283724563196e-05\n",
      "ratio: 0.85, loss: 4.450372580322437e-05\n",
      "ratio: 0.9, loss: 5.474088175105862e-05\n",
      "ratio: 0.95, loss: 7.08652296452783e-05\n"
     ]
    },
    {
     "name": "stderr",
     "output_type": "stream",
     "text": [
      "Running AWQ...:  58%|█████▊    | 14/24 [01:55<01:24,  8.46s/it]"
     ]
    },
    {
     "name": "stdout",
     "output_type": "stream",
     "text": [
      "dict_keys(['self_attn.q_proj', 'self_attn.k_proj', 'self_attn.v_proj', 'self_attn.out_proj', 'fc1', 'fc2'])\n",
      "dict_keys(['self_attn.q_proj', 'self_attn.k_proj', 'self_attn.v_proj', 'self_attn.out_proj', 'fc1', 'fc2'])\n",
      "----------\n",
      "ratio: 0.0, loss: 0.00994689017534256\n",
      "ratio: 0.05, loss: 0.009944210760295391\n",
      "ratio: 0.1, loss: 0.009941477328538895\n",
      "ratio: 0.15, loss: 0.009939990006387234\n",
      "ratio: 0.2, loss: 0.009939001873135567\n",
      "ratio: 0.25, loss: 0.009938289411365986\n",
      "ratio: 0.3, loss: 0.009938099421560764\n",
      "ratio: 0.35, loss: 0.009937197901308537\n",
      "ratio: 0.4, loss: 0.009936759248375893\n",
      "ratio: 0.45, loss: 0.009936757385730743\n",
      "ratio: 0.5, loss: 0.009936771355569363\n",
      "ratio: 0.55, loss: 0.009937000460922718\n",
      "ratio: 0.6, loss: 0.009937342256307602\n",
      "ratio: 0.65, loss: 0.009937628172338009\n",
      "ratio: 0.7, loss: 0.0099385567009449\n",
      "ratio: 0.75, loss: 0.00993956346064806\n",
      "ratio: 0.8, loss: 0.00994087290018797\n",
      "ratio: 0.85, loss: 0.009942512959241867\n",
      "ratio: 0.9, loss: 0.009944835677742958\n",
      "ratio: 0.95, loss: 0.009948191232979298\n",
      "ratio: 0.0, loss: 3.366599412402138e-05\n",
      "ratio: 0.05, loss: 3.280219971202314e-05\n",
      "ratio: 0.1, loss: 3.229076537536457e-05\n",
      "ratio: 0.15, loss: 3.199576531187631e-05\n",
      "ratio: 0.2, loss: 3.180579005856998e-05\n",
      "ratio: 0.25, loss: 3.173674122081138e-05\n",
      "ratio: 0.3, loss: 3.177389589836821e-05\n",
      "ratio: 0.35, loss: 3.190129791619256e-05\n",
      "ratio: 0.4, loss: 3.2133710192283615e-05\n",
      "ratio: 0.45, loss: 3.251659290981479e-05\n",
      "ratio: 0.5, loss: 3.3074338716687635e-05\n",
      "ratio: 0.55, loss: 3.38876161549706e-05\n",
      "ratio: 0.6, loss: 3.50882692146115e-05\n",
      "ratio: 0.65, loss: 3.6860277759842575e-05\n",
      "ratio: 0.7, loss: 3.953924169763923e-05\n",
      "ratio: 0.75, loss: 4.361333776614629e-05\n",
      "ratio: 0.8, loss: 5.00997448398266e-05\n",
      "ratio: 0.85, loss: 6.0294714785413817e-05\n",
      "ratio: 0.9, loss: 7.642745185876265e-05\n",
      "ratio: 0.95, loss: 0.00010144344560103491\n"
     ]
    },
    {
     "name": "stderr",
     "output_type": "stream",
     "text": [
      "Running AWQ...:  62%|██████▎   | 15/24 [02:04<01:16,  8.48s/it]"
     ]
    },
    {
     "name": "stdout",
     "output_type": "stream",
     "text": [
      "dict_keys(['self_attn.q_proj', 'self_attn.k_proj', 'self_attn.v_proj', 'self_attn.out_proj', 'fc1', 'fc2'])\n",
      "dict_keys(['self_attn.q_proj', 'self_attn.k_proj', 'self_attn.v_proj', 'self_attn.out_proj', 'fc1', 'fc2'])\n",
      "----------\n",
      "ratio: 0.0, loss: 0.009998282417654991\n",
      "ratio: 0.05, loss: 0.009996134787797928\n",
      "ratio: 0.1, loss: 0.009993434883654118\n",
      "ratio: 0.15, loss: 0.009992463514208794\n",
      "ratio: 0.2, loss: 0.00999155268073082\n",
      "ratio: 0.25, loss: 0.00999070331454277\n",
      "ratio: 0.3, loss: 0.009990029036998749\n",
      "ratio: 0.35, loss: 0.009989982470870018\n",
      "ratio: 0.4, loss: 0.00998988188803196\n",
      "ratio: 0.45, loss: 0.00998962763696909\n",
      "ratio: 0.5, loss: 0.00998956710100174\n",
      "ratio: 0.55, loss: 0.009989466518163681\n",
      "ratio: 0.6, loss: 0.009989796206355095\n",
      "ratio: 0.65, loss: 0.009990474209189415\n",
      "ratio: 0.7, loss: 0.00999077782034874\n",
      "ratio: 0.75, loss: 0.009991729632019997\n",
      "ratio: 0.8, loss: 0.009992842562496662\n",
      "ratio: 0.85, loss: 0.0099942646920681\n",
      "ratio: 0.9, loss: 0.009996245615184307\n",
      "ratio: 0.95, loss: 0.009998535737395287\n",
      "ratio: 0.0, loss: 5.736408638767898e-05\n",
      "ratio: 0.05, loss: 5.644749398925342e-05\n",
      "ratio: 0.1, loss: 5.589515421888791e-05\n",
      "ratio: 0.15, loss: 5.5505981435999274e-05\n",
      "ratio: 0.2, loss: 5.530121416086331e-05\n",
      "ratio: 0.25, loss: 5.522559877135791e-05\n",
      "ratio: 0.3, loss: 5.5269061704166234e-05\n",
      "ratio: 0.35, loss: 5.542955477721989e-05\n",
      "ratio: 0.4, loss: 5.573292219196446e-05\n",
      "ratio: 0.45, loss: 5.617399074253626e-05\n",
      "ratio: 0.5, loss: 5.683405834133737e-05\n",
      "ratio: 0.55, loss: 5.776730176876299e-05\n",
      "ratio: 0.6, loss: 5.9135818446520716e-05\n",
      "ratio: 0.65, loss: 6.109324749559164e-05\n",
      "ratio: 0.7, loss: 6.395784293999895e-05\n",
      "ratio: 0.75, loss: 6.82200989103876e-05\n",
      "ratio: 0.8, loss: 7.472601282643154e-05\n",
      "ratio: 0.85, loss: 8.458219235762954e-05\n",
      "ratio: 0.9, loss: 0.00010015339648816735\n",
      "ratio: 0.95, loss: 0.00012432874063961208\n"
     ]
    },
    {
     "name": "stderr",
     "output_type": "stream",
     "text": [
      "Running AWQ...:  67%|██████▋   | 16/24 [02:12<01:06,  8.35s/it]"
     ]
    },
    {
     "name": "stdout",
     "output_type": "stream",
     "text": [
      "dict_keys(['self_attn.q_proj', 'self_attn.k_proj', 'self_attn.v_proj', 'self_attn.out_proj', 'fc1', 'fc2'])\n",
      "dict_keys(['self_attn.q_proj', 'self_attn.k_proj', 'self_attn.v_proj', 'self_attn.out_proj', 'fc1', 'fc2'])\n",
      "----------\n",
      "ratio: 0.0, loss: 0.010620676912367344\n",
      "ratio: 0.05, loss: 0.010621014051139355\n",
      "ratio: 0.1, loss: 0.010618721134960651\n",
      "ratio: 0.15, loss: 0.010617048479616642\n",
      "ratio: 0.2, loss: 0.010615921579301357\n",
      "ratio: 0.25, loss: 0.010615384206175804\n",
      "ratio: 0.3, loss: 0.010614943690598011\n",
      "ratio: 0.35, loss: 0.010614936240017414\n",
      "ratio: 0.4, loss: 0.010614512488245964\n",
      "ratio: 0.45, loss: 0.010614358820021152\n",
      "ratio: 0.5, loss: 0.010614380240440369\n",
      "ratio: 0.55, loss: 0.010614723898470402\n",
      "ratio: 0.6, loss: 0.010615031234920025\n",
      "ratio: 0.65, loss: 0.010615143924951553\n",
      "ratio: 0.7, loss: 0.010615858249366283\n",
      "ratio: 0.75, loss: 0.010616443119943142\n",
      "ratio: 0.8, loss: 0.010617315769195557\n",
      "ratio: 0.85, loss: 0.010618542321026325\n",
      "ratio: 0.9, loss: 0.010620047338306904\n",
      "ratio: 0.95, loss: 0.0106218121945858\n",
      "ratio: 0.0, loss: 8.264704229077324e-05\n",
      "ratio: 0.05, loss: 8.149529458023608e-05\n",
      "ratio: 0.1, loss: 8.077442907961085e-05\n",
      "ratio: 0.15, loss: 8.031041215872392e-05\n",
      "ratio: 0.2, loss: 8.00367706688121e-05\n",
      "ratio: 0.25, loss: 7.996294880285859e-05\n",
      "ratio: 0.3, loss: 8.00110210548155e-05\n",
      "ratio: 0.35, loss: 8.025660645216703e-05\n",
      "ratio: 0.4, loss: 8.063800487434492e-05\n",
      "ratio: 0.45, loss: 8.121240534819663e-05\n",
      "ratio: 0.5, loss: 8.209185034502298e-05\n",
      "ratio: 0.55, loss: 8.329355478053913e-05\n",
      "ratio: 0.6, loss: 8.50823416840285e-05\n",
      "ratio: 0.65, loss: 8.763647929299623e-05\n",
      "ratio: 0.7, loss: 9.134635183727369e-05\n",
      "ratio: 0.75, loss: 9.682824020273983e-05\n",
      "ratio: 0.8, loss: 0.00010519348143134266\n",
      "ratio: 0.85, loss: 0.00011800980428233743\n",
      "ratio: 0.9, loss: 0.0001379702880512923\n",
      "ratio: 0.95, loss: 0.00016956419858615845\n"
     ]
    },
    {
     "name": "stderr",
     "output_type": "stream",
     "text": [
      "Running AWQ...:  71%|███████   | 17/24 [02:21<00:59,  8.53s/it]"
     ]
    },
    {
     "name": "stdout",
     "output_type": "stream",
     "text": [
      "dict_keys(['self_attn.q_proj', 'self_attn.k_proj', 'self_attn.v_proj', 'self_attn.out_proj', 'fc1', 'fc2'])\n",
      "dict_keys(['self_attn.q_proj', 'self_attn.k_proj', 'self_attn.v_proj', 'self_attn.out_proj', 'fc1', 'fc2'])\n",
      "----------\n",
      "ratio: 0.0, loss: 0.011285732500255108\n",
      "ratio: 0.05, loss: 0.011285433545708656\n",
      "ratio: 0.1, loss: 0.01128321886062622\n",
      "ratio: 0.15, loss: 0.01128286961466074\n",
      "ratio: 0.2, loss: 0.011282328516244888\n",
      "ratio: 0.25, loss: 0.011281279847025871\n",
      "ratio: 0.3, loss: 0.011280934326350689\n",
      "ratio: 0.35, loss: 0.011281007900834084\n",
      "ratio: 0.4, loss: 0.01128073874861002\n",
      "ratio: 0.45, loss: 0.011280602775514126\n",
      "ratio: 0.5, loss: 0.011280574835836887\n",
      "ratio: 0.55, loss: 0.011280765756964684\n",
      "ratio: 0.6, loss: 0.011280903592705727\n",
      "ratio: 0.65, loss: 0.011281179264187813\n",
      "ratio: 0.7, loss: 0.011281580664217472\n",
      "ratio: 0.75, loss: 0.011281857267022133\n",
      "ratio: 0.8, loss: 0.011282515712082386\n",
      "ratio: 0.85, loss: 0.01128337997943163\n",
      "ratio: 0.9, loss: 0.011284596286714077\n",
      "ratio: 0.95, loss: 0.011285925284028053\n",
      "ratio: 0.0, loss: 0.00014616000407841057\n",
      "ratio: 0.05, loss: 0.00014483400445897132\n",
      "ratio: 0.1, loss: 0.00014403102977667004\n",
      "ratio: 0.15, loss: 0.00014348217519000173\n",
      "ratio: 0.2, loss: 0.00014320718764793128\n",
      "ratio: 0.25, loss: 0.00014310663391370326\n",
      "ratio: 0.3, loss: 0.0001431763230357319\n",
      "ratio: 0.35, loss: 0.0001434414298273623\n",
      "ratio: 0.4, loss: 0.00014391442527994514\n",
      "ratio: 0.45, loss: 0.00014462480612564832\n",
      "ratio: 0.5, loss: 0.0001456438039895147\n",
      "ratio: 0.55, loss: 0.0001470766292186454\n",
      "ratio: 0.6, loss: 0.0001490925351390615\n",
      "ratio: 0.65, loss: 0.00015185817028395832\n",
      "ratio: 0.7, loss: 0.00015588753740303218\n",
      "ratio: 0.75, loss: 0.00016162803512997925\n",
      "ratio: 0.8, loss: 0.00017017415666487068\n",
      "ratio: 0.85, loss: 0.0001827542291721329\n",
      "ratio: 0.9, loss: 0.0002020701504079625\n",
      "ratio: 0.95, loss: 0.00023153680376708508\n"
     ]
    },
    {
     "name": "stderr",
     "output_type": "stream",
     "text": [
      "Running AWQ...:  75%|███████▌  | 18/24 [02:29<00:51,  8.50s/it]"
     ]
    },
    {
     "name": "stdout",
     "output_type": "stream",
     "text": [
      "dict_keys(['self_attn.q_proj', 'self_attn.k_proj', 'self_attn.v_proj', 'self_attn.out_proj', 'fc1', 'fc2'])\n",
      "dict_keys(['self_attn.q_proj', 'self_attn.k_proj', 'self_attn.v_proj', 'self_attn.out_proj', 'fc1', 'fc2'])\n",
      "----------\n",
      "ratio: 0.0, loss: 0.011849013157188892\n",
      "ratio: 0.05, loss: 0.011849025264382362\n",
      "ratio: 0.1, loss: 0.011847290210425854\n",
      "ratio: 0.15, loss: 0.011847369372844696\n",
      "ratio: 0.2, loss: 0.011845954693853855\n",
      "ratio: 0.25, loss: 0.011845551431179047\n",
      "ratio: 0.3, loss: 0.011845500208437443\n",
      "ratio: 0.35, loss: 0.011844991706311703\n",
      "ratio: 0.4, loss: 0.011845432221889496\n",
      "ratio: 0.45, loss: 0.011844983324408531\n",
      "ratio: 0.5, loss: 0.011844474822282791\n",
      "ratio: 0.55, loss: 0.011844661086797714\n",
      "ratio: 0.6, loss: 0.01184503361582756\n",
      "ratio: 0.65, loss: 0.011845188215374947\n",
      "ratio: 0.7, loss: 0.011845563538372517\n",
      "ratio: 0.75, loss: 0.011845903471112251\n",
      "ratio: 0.8, loss: 0.011846469715237617\n",
      "ratio: 0.85, loss: 0.011846876703202724\n",
      "ratio: 0.9, loss: 0.01184744480997324\n",
      "ratio: 0.95, loss: 0.01184871420264244\n",
      "ratio: 0.0, loss: 0.000153306798893027\n",
      "ratio: 0.05, loss: 0.00015167685342021286\n",
      "ratio: 0.1, loss: 0.00015076268755365163\n",
      "ratio: 0.15, loss: 0.00015016512770671397\n",
      "ratio: 0.2, loss: 0.000149837855133228\n",
      "ratio: 0.25, loss: 0.00014972215285524726\n",
      "ratio: 0.3, loss: 0.00014979478146415204\n",
      "ratio: 0.35, loss: 0.00015013429219834507\n",
      "ratio: 0.4, loss: 0.00015070206427481025\n",
      "ratio: 0.45, loss: 0.0001515331823611632\n",
      "ratio: 0.5, loss: 0.00015265824913512915\n",
      "ratio: 0.55, loss: 0.00015428139886353165\n",
      "ratio: 0.6, loss: 0.00015652248112019151\n",
      "ratio: 0.65, loss: 0.000159590519615449\n",
      "ratio: 0.7, loss: 0.00016405312635470182\n",
      "ratio: 0.75, loss: 0.0001704017777228728\n",
      "ratio: 0.8, loss: 0.00017984076112043113\n",
      "ratio: 0.85, loss: 0.0001936033513629809\n",
      "ratio: 0.9, loss: 0.00021495505643542856\n",
      "ratio: 0.95, loss: 0.0002485361183062196\n"
     ]
    },
    {
     "name": "stderr",
     "output_type": "stream",
     "text": [
      "Running AWQ...:  79%|███████▉  | 19/24 [02:38<00:42,  8.46s/it]"
     ]
    },
    {
     "name": "stdout",
     "output_type": "stream",
     "text": [
      "dict_keys(['self_attn.q_proj', 'self_attn.k_proj', 'self_attn.v_proj', 'self_attn.out_proj', 'fc1', 'fc2'])\n",
      "dict_keys(['self_attn.q_proj', 'self_attn.k_proj', 'self_attn.v_proj', 'self_attn.out_proj', 'fc1', 'fc2'])\n",
      "----------\n",
      "ratio: 0.0, loss: 0.012724155560135841\n",
      "ratio: 0.05, loss: 0.012722507119178772\n",
      "ratio: 0.1, loss: 0.012722522020339966\n",
      "ratio: 0.15, loss: 0.012721046805381775\n",
      "ratio: 0.2, loss: 0.012720970436930656\n",
      "ratio: 0.25, loss: 0.012720184400677681\n",
      "ratio: 0.3, loss: 0.01272035762667656\n",
      "ratio: 0.35, loss: 0.012719481252133846\n",
      "ratio: 0.4, loss: 0.012719560414552689\n",
      "ratio: 0.45, loss: 0.012719854712486267\n",
      "ratio: 0.5, loss: 0.01271981280297041\n",
      "ratio: 0.55, loss: 0.01271980069577694\n",
      "ratio: 0.6, loss: 0.012719874270260334\n",
      "ratio: 0.65, loss: 0.012720128521323204\n",
      "ratio: 0.7, loss: 0.012720244005322456\n",
      "ratio: 0.75, loss: 0.012720111757516861\n",
      "ratio: 0.8, loss: 0.012720695696771145\n",
      "ratio: 0.85, loss: 0.012721067294478416\n",
      "ratio: 0.9, loss: 0.012721851468086243\n",
      "ratio: 0.95, loss: 0.012722491286695004\n",
      "ratio: 0.0, loss: 0.000299590959912166\n",
      "ratio: 0.05, loss: 0.00029783567879348993\n",
      "ratio: 0.1, loss: 0.0002966366882901639\n",
      "ratio: 0.15, loss: 0.0002959423291031271\n",
      "ratio: 0.2, loss: 0.0002955600502900779\n",
      "ratio: 0.25, loss: 0.0002954079827759415\n",
      "ratio: 0.3, loss: 0.00029557730886153877\n",
      "ratio: 0.35, loss: 0.0002959730045404285\n",
      "ratio: 0.4, loss: 0.0002966086904052645\n",
      "ratio: 0.45, loss: 0.0002976320974994451\n",
      "ratio: 0.5, loss: 0.0002989579807035625\n",
      "ratio: 0.55, loss: 0.00030084323952905834\n",
      "ratio: 0.6, loss: 0.0003034286492038518\n",
      "ratio: 0.65, loss: 0.000307007459923625\n",
      "ratio: 0.7, loss: 0.0003119418688584119\n",
      "ratio: 0.75, loss: 0.0003192106378264725\n",
      "ratio: 0.8, loss: 0.00032992081833072007\n",
      "ratio: 0.85, loss: 0.00034632658935151994\n",
      "ratio: 0.9, loss: 0.00037184913526289165\n",
      "ratio: 0.95, loss: 0.00041103383409790695\n"
     ]
    },
    {
     "name": "stderr",
     "output_type": "stream",
     "text": [
      "Running AWQ...:  83%|████████▎ | 20/24 [02:46<00:33,  8.35s/it]"
     ]
    },
    {
     "name": "stdout",
     "output_type": "stream",
     "text": [
      "dict_keys(['self_attn.q_proj', 'self_attn.k_proj', 'self_attn.v_proj', 'self_attn.out_proj', 'fc1', 'fc2'])\n",
      "dict_keys(['self_attn.q_proj', 'self_attn.k_proj', 'self_attn.v_proj', 'self_attn.out_proj', 'fc1', 'fc2'])\n",
      "----------\n",
      "ratio: 0.0, loss: 0.013138605281710625\n",
      "ratio: 0.05, loss: 0.013138435781002045\n",
      "ratio: 0.1, loss: 0.013137154281139374\n",
      "ratio: 0.15, loss: 0.013136611320078373\n",
      "ratio: 0.2, loss: 0.013137019239366055\n",
      "ratio: 0.25, loss: 0.01313579361885786\n",
      "ratio: 0.3, loss: 0.013136031106114388\n",
      "ratio: 0.35, loss: 0.013135704211890697\n",
      "ratio: 0.4, loss: 0.01313498243689537\n",
      "ratio: 0.45, loss: 0.013135014101862907\n",
      "ratio: 0.5, loss: 0.013135211542248726\n",
      "ratio: 0.55, loss: 0.013135004788637161\n",
      "ratio: 0.6, loss: 0.013135101646184921\n",
      "ratio: 0.65, loss: 0.013135249726474285\n",
      "ratio: 0.7, loss: 0.013135562650859356\n",
      "ratio: 0.75, loss: 0.013135681860148907\n",
      "ratio: 0.8, loss: 0.013135869987308979\n",
      "ratio: 0.85, loss: 0.013136335648596287\n",
      "ratio: 0.9, loss: 0.013136751018464565\n",
      "ratio: 0.95, loss: 0.01313710492104292\n",
      "ratio: 0.0, loss: 0.000574772828258574\n",
      "ratio: 0.05, loss: 0.0005728990072384477\n",
      "ratio: 0.1, loss: 0.0005716293235309422\n",
      "ratio: 0.15, loss: 0.000570891541428864\n",
      "ratio: 0.2, loss: 0.0005704454379156232\n",
      "ratio: 0.25, loss: 0.0005703530041500926\n",
      "ratio: 0.3, loss: 0.0005705800140276551\n",
      "ratio: 0.35, loss: 0.0005712283309549093\n",
      "ratio: 0.4, loss: 0.0005721191992051899\n",
      "ratio: 0.45, loss: 0.0005734855076298118\n",
      "ratio: 0.5, loss: 0.0005751159624196589\n",
      "ratio: 0.55, loss: 0.0005775340250693262\n",
      "ratio: 0.6, loss: 0.0005806382978335023\n",
      "ratio: 0.65, loss: 0.0005847751162946224\n",
      "ratio: 0.7, loss: 0.0005904188728891313\n",
      "ratio: 0.75, loss: 0.0005979327252134681\n",
      "ratio: 0.8, loss: 0.0006083855987526476\n",
      "ratio: 0.85, loss: 0.0006228036945685744\n",
      "ratio: 0.9, loss: 0.0006437861011363566\n",
      "ratio: 0.95, loss: 0.0006742759724147618\n"
     ]
    },
    {
     "name": "stderr",
     "output_type": "stream",
     "text": [
      "Running AWQ...:  88%|████████▊ | 21/24 [02:54<00:25,  8.45s/it]"
     ]
    },
    {
     "name": "stdout",
     "output_type": "stream",
     "text": [
      "dict_keys(['self_attn.q_proj', 'self_attn.k_proj', 'self_attn.v_proj', 'self_attn.out_proj', 'fc1', 'fc2'])\n",
      "dict_keys(['self_attn.q_proj', 'self_attn.k_proj', 'self_attn.v_proj', 'self_attn.out_proj', 'fc1', 'fc2'])\n",
      "----------\n",
      "ratio: 0.0, loss: 0.013328366912901402\n",
      "ratio: 0.05, loss: 0.013327497988939285\n",
      "ratio: 0.1, loss: 0.013326018117368221\n",
      "ratio: 0.15, loss: 0.013326751999557018\n",
      "ratio: 0.2, loss: 0.013326087035238743\n",
      "ratio: 0.25, loss: 0.01332535594701767\n",
      "ratio: 0.3, loss: 0.013325346633791924\n",
      "ratio: 0.35, loss: 0.013325224630534649\n",
      "ratio: 0.4, loss: 0.013325215317308903\n",
      "ratio: 0.45, loss: 0.013324769213795662\n",
      "ratio: 0.5, loss: 0.01332525722682476\n",
      "ratio: 0.55, loss: 0.013325068168342113\n",
      "ratio: 0.6, loss: 0.013325002044439316\n",
      "ratio: 0.65, loss: 0.013325396925210953\n",
      "ratio: 0.7, loss: 0.013325324282050133\n",
      "ratio: 0.75, loss: 0.013325356878340244\n",
      "ratio: 0.8, loss: 0.013325857929885387\n",
      "ratio: 0.85, loss: 0.013326325453817844\n",
      "ratio: 0.9, loss: 0.013326372019946575\n",
      "ratio: 0.95, loss: 0.013327091000974178\n",
      "ratio: 0.0, loss: 0.0006497319554910064\n",
      "ratio: 0.05, loss: 0.000647321401629597\n",
      "ratio: 0.1, loss: 0.0006456851842813194\n",
      "ratio: 0.15, loss: 0.0006447327905334532\n",
      "ratio: 0.2, loss: 0.0006441923906095326\n",
      "ratio: 0.25, loss: 0.0006442484445869923\n",
      "ratio: 0.3, loss: 0.0006445797043852508\n",
      "ratio: 0.35, loss: 0.000645217951387167\n",
      "ratio: 0.4, loss: 0.0006464342586696148\n",
      "ratio: 0.45, loss: 0.0006481672753579915\n",
      "ratio: 0.5, loss: 0.0006503765471279621\n",
      "ratio: 0.55, loss: 0.0006533259875141084\n",
      "ratio: 0.6, loss: 0.000657406693790108\n",
      "ratio: 0.65, loss: 0.0006626221002079546\n",
      "ratio: 0.7, loss: 0.0006696116761304438\n",
      "ratio: 0.75, loss: 0.0006785790901631117\n",
      "ratio: 0.8, loss: 0.0006913249962963164\n",
      "ratio: 0.85, loss: 0.0007089001010172069\n",
      "ratio: 0.9, loss: 0.0007333913818001747\n",
      "ratio: 0.95, loss: 0.0007683348376303911\n"
     ]
    },
    {
     "name": "stderr",
     "output_type": "stream",
     "text": [
      "Running AWQ...:  92%|█████████▏| 22/24 [03:03<00:16,  8.47s/it]"
     ]
    },
    {
     "name": "stdout",
     "output_type": "stream",
     "text": [
      "dict_keys(['self_attn.q_proj', 'self_attn.k_proj', 'self_attn.v_proj', 'self_attn.out_proj', 'fc1', 'fc2'])\n",
      "dict_keys(['self_attn.q_proj', 'self_attn.k_proj', 'self_attn.v_proj', 'self_attn.out_proj', 'fc1', 'fc2'])\n",
      "----------\n",
      "ratio: 0.0, loss: 0.013264557346701622\n",
      "ratio: 0.05, loss: 0.01326411310583353\n",
      "ratio: 0.1, loss: 0.013263403438031673\n",
      "ratio: 0.15, loss: 0.013262837193906307\n",
      "ratio: 0.2, loss: 0.013263304717838764\n",
      "ratio: 0.25, loss: 0.013262695632874966\n",
      "ratio: 0.3, loss: 0.013261978514492512\n",
      "ratio: 0.35, loss: 0.013262277469038963\n",
      "ratio: 0.4, loss: 0.013262133114039898\n",
      "ratio: 0.45, loss: 0.013261237181723118\n",
      "ratio: 0.5, loss: 0.013261817395687103\n",
      "ratio: 0.55, loss: 0.013261503539979458\n",
      "ratio: 0.6, loss: 0.013261623680591583\n",
      "ratio: 0.65, loss: 0.013261726126074791\n",
      "ratio: 0.7, loss: 0.013262137770652771\n",
      "ratio: 0.75, loss: 0.013262114487588406\n",
      "ratio: 0.8, loss: 0.013262744061648846\n",
      "ratio: 0.85, loss: 0.013262959197163582\n",
      "ratio: 0.9, loss: 0.0132635198533535\n",
      "ratio: 0.95, loss: 0.013264100067317486\n",
      "ratio: 0.0, loss: 0.0009235887555405498\n",
      "ratio: 0.05, loss: 0.0009204067755490541\n",
      "ratio: 0.1, loss: 0.0009184106020256877\n",
      "ratio: 0.15, loss: 0.0009170485427603126\n",
      "ratio: 0.2, loss: 0.0009163363138213754\n",
      "ratio: 0.25, loss: 0.0009162130882032216\n",
      "ratio: 0.3, loss: 0.0009166616946458817\n",
      "ratio: 0.35, loss: 0.0009175156010314822\n",
      "ratio: 0.4, loss: 0.000919145648367703\n",
      "ratio: 0.45, loss: 0.0009207219118252397\n",
      "ratio: 0.5, loss: 0.0009236139012500644\n",
      "ratio: 0.55, loss: 0.000927253975532949\n",
      "ratio: 0.6, loss: 0.0009318814845755696\n",
      "ratio: 0.65, loss: 0.0009383133728988469\n",
      "ratio: 0.7, loss: 0.0009467590134590864\n",
      "ratio: 0.75, loss: 0.0009583038045093417\n",
      "ratio: 0.8, loss: 0.0009742117836140096\n",
      "ratio: 0.85, loss: 0.0009966053767129779\n",
      "ratio: 0.9, loss: 0.0010267086327075958\n",
      "ratio: 0.95, loss: 0.00107093108817935\n"
     ]
    },
    {
     "name": "stderr",
     "output_type": "stream",
     "text": [
      "Running AWQ...:  96%|█████████▌| 23/24 [03:12<00:08,  8.57s/it]"
     ]
    },
    {
     "name": "stdout",
     "output_type": "stream",
     "text": [
      "dict_keys(['self_attn.q_proj', 'self_attn.k_proj', 'self_attn.v_proj', 'self_attn.out_proj', 'fc1', 'fc2'])\n",
      "dict_keys(['self_attn.q_proj', 'self_attn.k_proj', 'self_attn.v_proj', 'self_attn.out_proj', 'fc1', 'fc2'])\n",
      "----------\n",
      "ratio: 0.0, loss: 0.0071968501433730125\n",
      "ratio: 0.05, loss: 0.0071961767971515656\n",
      "ratio: 0.1, loss: 0.007195735350251198\n",
      "ratio: 0.15, loss: 0.007195128593593836\n",
      "ratio: 0.2, loss: 0.007194618694484234\n",
      "ratio: 0.25, loss: 0.007194302044808865\n",
      "ratio: 0.3, loss: 0.007194048725068569\n",
      "ratio: 0.35, loss: 0.007193746976554394\n",
      "ratio: 0.4, loss: 0.007193713914602995\n",
      "ratio: 0.45, loss: 0.007193513214588165\n",
      "ratio: 0.5, loss: 0.007193679455667734\n",
      "ratio: 0.55, loss: 0.007193423807621002\n",
      "ratio: 0.6, loss: 0.007193758152425289\n",
      "ratio: 0.65, loss: 0.007194096688181162\n",
      "ratio: 0.7, loss: 0.00719437887892127\n",
      "ratio: 0.75, loss: 0.007195138838142157\n",
      "ratio: 0.8, loss: 0.00719570554792881\n",
      "ratio: 0.85, loss: 0.007196441292762756\n",
      "ratio: 0.9, loss: 0.007197371684014797\n",
      "ratio: 0.95, loss: 0.007198605686426163\n",
      "ratio: 0.0, loss: 0.0008104646112769842\n",
      "ratio: 0.05, loss: 0.000806879426818341\n",
      "ratio: 0.1, loss: 0.00080453249393031\n",
      "ratio: 0.15, loss: 0.00080300826812163\n",
      "ratio: 0.2, loss: 0.0008022672845982015\n",
      "ratio: 0.25, loss: 0.0008018239168450236\n",
      "ratio: 0.3, loss: 0.0008018420776352286\n",
      "ratio: 0.35, loss: 0.0008027316653169692\n",
      "ratio: 0.4, loss: 0.0008037973893806338\n",
      "ratio: 0.45, loss: 0.0008055598591454327\n",
      "ratio: 0.5, loss: 0.0008079433464445174\n",
      "ratio: 0.55, loss: 0.0008112982613965869\n",
      "ratio: 0.6, loss: 0.0008161924779415131\n",
      "ratio: 0.65, loss: 0.0008225997444242239\n",
      "ratio: 0.7, loss: 0.0008317697211168706\n",
      "ratio: 0.75, loss: 0.0008448901353403926\n",
      "ratio: 0.8, loss: 0.0008631798555143178\n",
      "ratio: 0.85, loss: 0.0008908486342988908\n",
      "ratio: 0.9, loss: 0.0009290895541198552\n",
      "ratio: 0.95, loss: 0.0009866593172773719\n"
     ]
    },
    {
     "name": "stderr",
     "output_type": "stream",
     "text": [
      "Running AWQ...: 100%|██████████| 24/24 [03:20<00:00,  8.37s/it]\n"
     ]
    }
   ],
   "source": [
    "from awq.quantize.pre_quant_lester import run_awq, apply_awq\n",
    "from typing import Literal\n",
    "\n",
    "ActQuantType = Literal[\"per_token\", \"per_tensor\", \"none\"]\n",
    "\n",
    "q_config = {\n",
    "    \"zero_point\": True,  # by default True\n",
    "    \"q_group_size\": 128,  # whether to use group quantization\n",
    "    \"w_n_bits\": 8,\n",
    "    \"a_n_bits\": 8,\n",
    "    \"act_quant\": \"per_tensor\",\n",
    "}\n",
    "\n",
    "model = AutoModelForCausalLM.from_pretrained(\n",
    "    model_path, torch_dtype=torch_dtype, device_map=\"auto\"\n",
    ")\n",
    "\n",
    "awq_results = run_awq(\n",
    "    model,\n",
    "    tokenizer,\n",
    "    w_bit=q_config[\"w_n_bits\"],\n",
    "    q_config=q_config,\n",
    "    n_samples=128,\n",
    "    seqlen=512,\n",
    ")"
   ]
  },
  {
   "cell_type": "code",
   "execution_count": 17,
   "metadata": {},
   "outputs": [
    {
     "name": "stdout",
     "output_type": "stream",
     "text": [
      "AWQ results saved at awq_results.pt\n"
     ]
    }
   ],
   "source": [
    "dump_awq = \"awq_results.pt\"\n",
    "torch.save(awq_results, dump_awq)\n",
    "print(\"AWQ results saved at\", dump_awq)\n",
    "#"
   ]
  },
  {
   "cell_type": "code",
   "execution_count": null,
   "metadata": {},
   "outputs": [],
   "source": [
    "### load awq\n",
    "\n",
    "load_awq = \"awq_results.pt\"\n",
    "awq_results = torch.load(load_awq, map_location=\"cpu\")"
   ]
  },
  {
   "cell_type": "code",
   "execution_count": 13,
   "metadata": {},
   "outputs": [
    {
     "data": {
      "text/plain": [
       "{'zero_point': True,\n",
       " 'q_group_size': 128,\n",
       " 'w_n_bits': 8,\n",
       " 'a_n_bits': 8,\n",
       " 'act_quant': 'per_tensor'}"
      ]
     },
     "execution_count": 13,
     "metadata": {},
     "output_type": "execute_result"
    }
   ],
   "source": [
    "q_config"
   ]
  },
  {
   "cell_type": "code",
   "execution_count": 18,
   "metadata": {},
   "outputs": [],
   "source": [
    "\n",
    "from transformers.models.opt.modeling_opt import OPTDecoderLayer\n",
    "from awq.quantize.fake_quant_lester import quantize_opt_model\n",
    "\n",
    "model = AutoModelForCausalLM.from_pretrained(\n",
    "    model_path, torch_dtype=torch_dtype, device_map=\"auto\"\n",
    ")\n",
    "\n",
    "# apply the AWQ results\n",
    "apply_awq(model, awq_results)\n",
    "\n",
    "model = quantize_opt_model(\n",
    "    model,\n",
    "    w_n_bits=q_config[\"w_n_bits\"],\n",
    "    a_n_bits=q_config[\"a_n_bits\"],\n",
    "    act_quant=q_config[\"act_quant\"],\n",
    ")\n"
   ]
  },
  {
   "cell_type": "code",
   "execution_count": 19,
   "metadata": {},
   "outputs": [
    {
     "data": {
      "text/plain": [
       "OPTForCausalLM(\n",
       "  (model): OPTModel(\n",
       "    (decoder): OPTDecoder(\n",
       "      (embed_tokens): Embedding(50272, 2048, padding_idx=1)\n",
       "      (embed_positions): OPTLearnedPositionalEmbedding(2050, 2048)\n",
       "      (final_layer_norm): LayerNorm((2048,), eps=1e-05, elementwise_affine=True)\n",
       "      (layers): ModuleList(\n",
       "        (0-23): 24 x OPTDecoderLayer(\n",
       "          (self_attn): OPTAttention(\n",
       "            (k_proj): Linear(in_features=2048, out_features=2048, bias=True)\n",
       "            (v_proj): Linear(in_features=2048, out_features=2048, bias=True)\n",
       "            (q_proj): Linear(in_features=2048, out_features=2048, bias=True)\n",
       "            (out_proj): Linear(in_features=2048, out_features=2048, bias=True)\n",
       "          )\n",
       "          (activation_fn): ReLU()\n",
       "          (self_attn_layer_norm): LayerNorm((2048,), eps=1e-05, elementwise_affine=True)\n",
       "          (fc1): QuantizedLinear()\n",
       "          (fc2): QuantizedLinear()\n",
       "          (final_layer_norm): LayerNorm((2048,), eps=1e-05, elementwise_affine=True)\n",
       "        )\n",
       "      )\n",
       "    )\n",
       "  )\n",
       "  (lm_head): Linear(in_features=2048, out_features=50272, bias=False)\n",
       ")"
      ]
     },
     "execution_count": 19,
     "metadata": {},
     "output_type": "execute_result"
    }
   ],
   "source": [
    "torch.cuda.empty_cache()\n",
    "model.cuda()"
   ]
  },
  {
   "cell_type": "code",
   "execution_count": 20,
   "metadata": {},
   "outputs": [
    {
     "name": "stderr",
     "output_type": "stream",
     "text": [
      "evaluating...: 100%|██████████| 40/40 [00:22<00:00,  1.81it/s]"
     ]
    },
    {
     "name": "stdout",
     "output_type": "stream",
     "text": [
      "\n",
      "model perplexity: 13702.26\n",
      "model size: 496.07 MiB\n"
     ]
    },
    {
     "name": "stderr",
     "output_type": "stream",
     "text": [
      "\n"
     ]
    }
   ],
   "source": [
    "# Evaluate the model\n",
    "model_perplexity = evaluate(model, tokenizer)\n",
    "model_size = get_model_size(model, data_width=q_config[\"w_n_bits\"], group_size=128)\n",
    "print(f\"\\nmodel perplexity: {model_perplexity:.2f}\")\n",
    "print(f\"model size: {model_size/MiB:.2f} MiB\")"
   ]
  },
  {
   "cell_type": "code",
   "execution_count": 14,
   "metadata": {},
   "outputs": [
    {
     "name": "stdout",
     "output_type": "stream",
     "text": [
      "hi\n"
     ]
    }
   ],
   "source": [
    "print(\"hi\")"
   ]
  },
  {
   "cell_type": "markdown",
   "metadata": {},
   "source": [
    "## RANDOM STUFF"
   ]
  },
  {
   "cell_type": "code",
   "execution_count": null,
   "metadata": {},
   "outputs": [],
   "source": [
    "from awq.quantize.pre_quant_lester import get_blocks"
   ]
  },
  {
   "cell_type": "code",
   "execution_count": null,
   "metadata": {},
   "outputs": [],
   "source": [
    "for layer in get_blocks(model):\n",
    "    # layer.fc1\n",
    "    # layer.fc2\n",
    "    # print(\"hi\")\n",
    "    break"
   ]
  },
  {
   "cell_type": "code",
   "execution_count": null,
   "metadata": {},
   "outputs": [],
   "source": [
    "from copy import deepcopy\n",
    "\n",
    "x = deepcopy(layer)"
   ]
  },
  {
   "cell_type": "code",
   "execution_count": null,
   "metadata": {},
   "outputs": [],
   "source": [
    "x.fc1.weight.data[:] = 1.0\n",
    "# x.fc1.weight.data\n",
    "\n",
    "layer.fc1.weight.data"
   ]
  },
  {
   "cell_type": "code",
   "execution_count": null,
   "metadata": {},
   "outputs": [],
   "source": [
    "isinstance(layer, OPTDecoderLayer)"
   ]
  },
  {
   "cell_type": "code",
   "execution_count": null,
   "metadata": {},
   "outputs": [],
   "source": []
  }
 ],
 "metadata": {
  "kernelspec": {
   "display_name": "awq",
   "language": "python",
   "name": "python3"
  },
  "language_info": {
   "codemirror_mode": {
    "name": "ipython",
    "version": 3
   },
   "file_extension": ".py",
   "mimetype": "text/x-python",
   "name": "python",
   "nbconvert_exporter": "python",
   "pygments_lexer": "ipython3",
   "version": "3.10.15"
  }
 },
 "nbformat": 4,
 "nbformat_minor": 2
}
